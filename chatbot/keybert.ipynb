{
 "cells": [
  {
   "cell_type": "code",
   "execution_count": 1,
   "metadata": {},
   "outputs": [
    {
     "name": "stdout",
     "output_type": "stream",
     "text": [
      "Requirement already satisfied: keybert in /Users/max/.pyenv/versions/3.7.11/lib/python3.7/site-packages (0.5.1)\n",
      "Requirement already satisfied: sentence-transformers>=0.3.8 in /Users/max/.pyenv/versions/3.7.11/lib/python3.7/site-packages (from keybert) (2.2.0)\n",
      "Requirement already satisfied: scikit-learn>=0.22.2 in /Users/max/.pyenv/versions/3.7.11/lib/python3.7/site-packages (from keybert) (1.0.1)\n",
      "Requirement already satisfied: numpy>=1.18.5 in /Users/max/.pyenv/versions/3.7.11/lib/python3.7/site-packages (from keybert) (1.21.3)\n",
      "Requirement already satisfied: rich>=10.4.0 in /Users/max/.pyenv/versions/3.7.11/lib/python3.7/site-packages (from keybert) (12.2.0)\n",
      "Requirement already satisfied: torch>=1.6.0 in /Users/max/.pyenv/versions/3.7.11/lib/python3.7/site-packages (from sentence-transformers>=0.3.8->keybert) (1.10.0)\n",
      "Requirement already satisfied: torchvision in /Users/max/.pyenv/versions/3.7.11/lib/python3.7/site-packages (from sentence-transformers>=0.3.8->keybert) (0.12.0)\n",
      "Requirement already satisfied: scipy in /Users/max/.pyenv/versions/3.7.11/lib/python3.7/site-packages (from sentence-transformers>=0.3.8->keybert) (1.7.1)\n",
      "Requirement already satisfied: huggingface-hub in /Users/max/.pyenv/versions/3.7.11/lib/python3.7/site-packages (from sentence-transformers>=0.3.8->keybert) (0.4.0)\n",
      "Requirement already satisfied: transformers<5.0.0,>=4.6.0 in /Users/max/.pyenv/versions/3.7.11/lib/python3.7/site-packages (from sentence-transformers>=0.3.8->keybert) (4.17.0)\n",
      "Requirement already satisfied: nltk in /Users/max/.pyenv/versions/3.7.11/lib/python3.7/site-packages (from sentence-transformers>=0.3.8->keybert) (3.7)\n",
      "Requirement already satisfied: sentencepiece in /Users/max/.pyenv/versions/3.7.11/lib/python3.7/site-packages (from sentence-transformers>=0.3.8->keybert) (0.1.96)\n",
      "Requirement already satisfied: tqdm in /Users/max/.pyenv/versions/3.7.11/lib/python3.7/site-packages (from sentence-transformers>=0.3.8->keybert) (4.63.1)\n",
      "Requirement already satisfied: threadpoolctl>=2.0.0 in /Users/max/.pyenv/versions/3.7.11/lib/python3.7/site-packages (from scikit-learn>=0.22.2->keybert) (3.0.0)\n",
      "Requirement already satisfied: joblib>=0.11 in /Users/max/.pyenv/versions/3.7.11/lib/python3.7/site-packages (from scikit-learn>=0.22.2->keybert) (1.1.0)\n",
      "Requirement already satisfied: commonmark<0.10.0,>=0.9.0 in /Users/max/.pyenv/versions/3.7.11/lib/python3.7/site-packages (from rich>=10.4.0->keybert) (0.9.1)\n",
      "Requirement already satisfied: pygments<3.0.0,>=2.6.0 in /Users/max/.pyenv/versions/3.7.11/lib/python3.7/site-packages (from rich>=10.4.0->keybert) (2.10.0)\n",
      "Requirement already satisfied: typing-extensions<5.0,>=4.0.0; python_version < \"3.9\" in /Users/max/.pyenv/versions/3.7.11/lib/python3.7/site-packages (from rich>=10.4.0->keybert) (4.1.1)\n",
      "Requirement already satisfied: requests in /Users/max/.pyenv/versions/3.7.11/lib/python3.7/site-packages (from torchvision->sentence-transformers>=0.3.8->keybert) (2.27.1)\n",
      "Requirement already satisfied: pillow!=8.3.*,>=5.3.0 in /Users/max/.pyenv/versions/3.7.11/lib/python3.7/site-packages (from torchvision->sentence-transformers>=0.3.8->keybert) (8.4.0)\n",
      "Requirement already satisfied: importlib-metadata; python_version < \"3.8\" in /Users/max/.pyenv/versions/3.7.11/lib/python3.7/site-packages (from huggingface-hub->sentence-transformers>=0.3.8->keybert) (4.8.1)\n",
      "Requirement already satisfied: packaging>=20.9 in /Users/max/.pyenv/versions/3.7.11/lib/python3.7/site-packages (from huggingface-hub->sentence-transformers>=0.3.8->keybert) (21.3)\n",
      "Requirement already satisfied: pyyaml in /Users/max/.pyenv/versions/3.7.11/lib/python3.7/site-packages (from huggingface-hub->sentence-transformers>=0.3.8->keybert) (6.0)\n",
      "Requirement already satisfied: filelock in /Users/max/.pyenv/versions/3.7.11/lib/python3.7/site-packages (from huggingface-hub->sentence-transformers>=0.3.8->keybert) (3.6.0)\n",
      "Requirement already satisfied: sacremoses in /Users/max/.pyenv/versions/3.7.11/lib/python3.7/site-packages (from transformers<5.0.0,>=4.6.0->sentence-transformers>=0.3.8->keybert) (0.0.49)\n",
      "Requirement already satisfied: regex!=2019.12.17 in /Users/max/.pyenv/versions/3.7.11/lib/python3.7/site-packages (from transformers<5.0.0,>=4.6.0->sentence-transformers>=0.3.8->keybert) (2022.3.15)\n",
      "Requirement already satisfied: tokenizers!=0.11.3,>=0.11.1 in /Users/max/.pyenv/versions/3.7.11/lib/python3.7/site-packages (from transformers<5.0.0,>=4.6.0->sentence-transformers>=0.3.8->keybert) (0.11.6)\n",
      "Requirement already satisfied: click in /Users/max/.pyenv/versions/3.7.11/lib/python3.7/site-packages (from nltk->sentence-transformers>=0.3.8->keybert) (8.1.2)\n",
      "Requirement already satisfied: charset-normalizer~=2.0.0; python_version >= \"3\" in /Users/max/.pyenv/versions/3.7.11/lib/python3.7/site-packages (from requests->torchvision->sentence-transformers>=0.3.8->keybert) (2.0.12)\n",
      "Requirement already satisfied: certifi>=2017.4.17 in /Users/max/.pyenv/versions/3.7.11/lib/python3.7/site-packages (from requests->torchvision->sentence-transformers>=0.3.8->keybert) (2021.10.8)\n",
      "Requirement already satisfied: idna<4,>=2.5; python_version >= \"3\" in /Users/max/.pyenv/versions/3.7.11/lib/python3.7/site-packages (from requests->torchvision->sentence-transformers>=0.3.8->keybert) (3.3)\n",
      "Requirement already satisfied: urllib3<1.27,>=1.21.1 in /Users/max/.pyenv/versions/3.7.11/lib/python3.7/site-packages (from requests->torchvision->sentence-transformers>=0.3.8->keybert) (1.26.9)\n",
      "Requirement already satisfied: zipp>=0.5 in /Users/max/.pyenv/versions/3.7.11/lib/python3.7/site-packages (from importlib-metadata; python_version < \"3.8\"->huggingface-hub->sentence-transformers>=0.3.8->keybert) (3.6.0)\n",
      "Requirement already satisfied: pyparsing!=3.0.5,>=2.0.2 in /Users/max/.pyenv/versions/3.7.11/lib/python3.7/site-packages (from packaging>=20.9->huggingface-hub->sentence-transformers>=0.3.8->keybert) (3.0.4)\n",
      "Requirement already satisfied: six in /Users/max/.pyenv/versions/3.7.11/lib/python3.7/site-packages (from sacremoses->transformers<5.0.0,>=4.6.0->sentence-transformers>=0.3.8->keybert) (1.16.0)\n",
      "\u001b[33mWARNING: You are using pip version 20.1.1; however, version 22.0.4 is available.\n",
      "You should consider upgrading via the '/Users/max/.pyenv/versions/3.7.11/bin/python3.7 -m pip install --upgrade pip' command.\u001b[0m\n"
     ]
    }
   ],
   "source": [
    "!pip install keybert"
   ]
  },
  {
   "cell_type": "code",
   "execution_count": 2,
   "metadata": {},
   "outputs": [
    {
     "name": "stderr",
     "output_type": "stream",
     "text": [
      "/Users/max/.pyenv/versions/3.7.11/lib/python3.7/site-packages/pandas/compat/__init__.py:124: UserWarning: Could not import the lzma module. Your installed Python is incomplete. Attempting to use lzma compression will result in a RuntimeError.\n",
      "  warnings.warn(msg)\n"
     ]
    },
    {
     "data": {
      "text/html": [
       "<div>\n",
       "<style scoped>\n",
       "    .dataframe tbody tr th:only-of-type {\n",
       "        vertical-align: middle;\n",
       "    }\n",
       "\n",
       "    .dataframe tbody tr th {\n",
       "        vertical-align: top;\n",
       "    }\n",
       "\n",
       "    .dataframe thead th {\n",
       "        text-align: right;\n",
       "    }\n",
       "</style>\n",
       "<table border=\"1\" class=\"dataframe\">\n",
       "  <thead>\n",
       "    <tr style=\"text-align: right;\">\n",
       "      <th></th>\n",
       "      <th>title</th>\n",
       "      <th>content</th>\n",
       "    </tr>\n",
       "  </thead>\n",
       "  <tbody>\n",
       "    <tr>\n",
       "      <th>0</th>\n",
       "      <td>House Republicans Fret About Winning Their Hea...</td>\n",
       "      <td>WASHINGTON  —   Congressional Republicans have...</td>\n",
       "    </tr>\n",
       "    <tr>\n",
       "      <th>1</th>\n",
       "      <td>Rift Between Officers and Residents as Killing...</td>\n",
       "      <td>After the bullet shells get counted, the blood...</td>\n",
       "    </tr>\n",
       "    <tr>\n",
       "      <th>2</th>\n",
       "      <td>Tyrus Wong, ‘Bambi’ Artist Thwarted by Racial ...</td>\n",
       "      <td>When Walt Disney’s “Bambi” opened in 1942, cri...</td>\n",
       "    </tr>\n",
       "    <tr>\n",
       "      <th>3</th>\n",
       "      <td>Among Deaths in 2016, a Heavy Toll in Pop Musi...</td>\n",
       "      <td>Death may be the great equalizer, but it isn’t...</td>\n",
       "    </tr>\n",
       "    <tr>\n",
       "      <th>4</th>\n",
       "      <td>Kim Jong-un Says North Korea Is Preparing to T...</td>\n",
       "      <td>SEOUL, South Korea  —   North Korea’s leader, ...</td>\n",
       "    </tr>\n",
       "    <tr>\n",
       "      <th>...</th>\n",
       "      <td>...</td>\n",
       "      <td>...</td>\n",
       "    </tr>\n",
       "    <tr>\n",
       "      <th>7798</th>\n",
       "      <td>U.N. Relief Official Calls Crisis in Aleppo th...</td>\n",
       "      <td>The top aid official at the United Nations gav...</td>\n",
       "    </tr>\n",
       "    <tr>\n",
       "      <th>7799</th>\n",
       "      <td>Federal Judge Curbs Enforcement of North Carol...</td>\n",
       "      <td>A federal judge on Friday curbed the enforceme...</td>\n",
       "    </tr>\n",
       "    <tr>\n",
       "      <th>7800</th>\n",
       "      <td>Mexicans Accuse President of ‘Historic Error’ ...</td>\n",
       "      <td>MEXICO CITY  —   If President Enrique Peña Nie...</td>\n",
       "    </tr>\n",
       "    <tr>\n",
       "      <th>7801</th>\n",
       "      <td>U.S. Presses for Truce in Syria, With Its Larg...</td>\n",
       "      <td>HANGZHOU, China  —   The image of a    Syrian ...</td>\n",
       "    </tr>\n",
       "    <tr>\n",
       "      <th>7802</th>\n",
       "      <td>Airbnb Adopts Rules to Fight Discrimination by...</td>\n",
       "      <td>SAN FRANCISCO  —   For much of this year, Airb...</td>\n",
       "    </tr>\n",
       "  </tbody>\n",
       "</table>\n",
       "<p>7803 rows × 2 columns</p>\n",
       "</div>"
      ],
      "text/plain": [
       "                                                  title  \\\n",
       "0     House Republicans Fret About Winning Their Hea...   \n",
       "1     Rift Between Officers and Residents as Killing...   \n",
       "2     Tyrus Wong, ‘Bambi’ Artist Thwarted by Racial ...   \n",
       "3     Among Deaths in 2016, a Heavy Toll in Pop Musi...   \n",
       "4     Kim Jong-un Says North Korea Is Preparing to T...   \n",
       "...                                                 ...   \n",
       "7798  U.N. Relief Official Calls Crisis in Aleppo th...   \n",
       "7799  Federal Judge Curbs Enforcement of North Carol...   \n",
       "7800  Mexicans Accuse President of ‘Historic Error’ ...   \n",
       "7801  U.S. Presses for Truce in Syria, With Its Larg...   \n",
       "7802  Airbnb Adopts Rules to Fight Discrimination by...   \n",
       "\n",
       "                                                content  \n",
       "0     WASHINGTON  —   Congressional Republicans have...  \n",
       "1     After the bullet shells get counted, the blood...  \n",
       "2     When Walt Disney’s “Bambi” opened in 1942, cri...  \n",
       "3     Death may be the great equalizer, but it isn’t...  \n",
       "4     SEOUL, South Korea  —   North Korea’s leader, ...  \n",
       "...                                                 ...  \n",
       "7798  The top aid official at the United Nations gav...  \n",
       "7799  A federal judge on Friday curbed the enforceme...  \n",
       "7800  MEXICO CITY  —   If President Enrique Peña Nie...  \n",
       "7801  HANGZHOU, China  —   The image of a    Syrian ...  \n",
       "7802  SAN FRANCISCO  —   For much of this year, Airb...  \n",
       "\n",
       "[7803 rows x 2 columns]"
      ]
     },
     "execution_count": 2,
     "metadata": {},
     "output_type": "execute_result"
    }
   ],
   "source": [
    "from keybert import KeyBERT\n",
    "import pandas as pd\n",
    "\n",
    "df = pd.read_csv('../comparison_dataset/articles1.csv')\n",
    "df = df[df['publication'] == 'New York Times']\n",
    "df = df.drop(columns = ['id', 'publication', 'author', 'date', 'year', 'month', 'url', 'Unnamed: 0'])\n",
    "df"
   ]
  },
  {
   "cell_type": "code",
   "execution_count": 5,
   "metadata": {},
   "outputs": [
    {
     "data": {
      "text/plain": [
       "[('influence on bambi mr wong', 0.6969),\n",
       " ('bambi that mr wong was', 0.6925),\n",
       " ('bambi mr wong was', 0.6867),\n",
       " ('wong was an artist', 0.6862),\n",
       " ('wong was an artist for', 0.6859)]"
      ]
     },
     "execution_count": 5,
     "metadata": {},
     "output_type": "execute_result"
    }
   ],
   "source": [
    "kw_model = KeyBERT()\n",
    "\n",
    "key_phrases = kw_model.extract_keywords(df.iloc[2]['content'], keyphrase_ngram_range=(1, 5), stop_words=None)\n",
    "key_phrases"
   ]
  }
 ],
 "metadata": {
  "interpreter": {
   "hash": "e84c11b96d40bca2711257aa1373ef735c853f35901985e15f90e12312631005"
  },
  "kernelspec": {
   "display_name": "Python 3",
   "language": "python",
   "name": "python3"
  },
  "language_info": {
   "codemirror_mode": {
    "name": "ipython",
    "version": 3
   },
   "file_extension": ".py",
   "mimetype": "text/x-python",
   "name": "python",
   "nbconvert_exporter": "python",
   "pygments_lexer": "ipython3",
   "version": "3.8.2"
  }
 },
 "nbformat": 4,
 "nbformat_minor": 2
}

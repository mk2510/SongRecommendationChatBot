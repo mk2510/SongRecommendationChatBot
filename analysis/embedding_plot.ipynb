{
 "cells": [
  {
   "cell_type": "code",
   "execution_count": 1,
   "metadata": {},
   "outputs": [
    {
     "ename": "ModuleNotFoundError",
     "evalue": "No module named 'gensim'",
     "output_type": "error",
     "traceback": [
      "\u001b[0;31m---------------------------------------------------------------------------\u001b[0m",
      "\u001b[0;31mModuleNotFoundError\u001b[0m                       Traceback (most recent call last)",
      "\u001b[0;32m<ipython-input-1-a6576b6eb80c>\u001b[0m in \u001b[0;36m<module>\u001b[0;34m\u001b[0m\n\u001b[1;32m      2\u001b[0m \u001b[0;32mimport\u001b[0m \u001b[0mpandas\u001b[0m \u001b[0;32mas\u001b[0m \u001b[0mpd\u001b[0m\u001b[0;34m\u001b[0m\u001b[0;34m\u001b[0m\u001b[0m\n\u001b[1;32m      3\u001b[0m \u001b[0;32mimport\u001b[0m \u001b[0mnumpy\u001b[0m \u001b[0;32mas\u001b[0m \u001b[0mnp\u001b[0m\u001b[0;34m\u001b[0m\u001b[0;34m\u001b[0m\u001b[0m\n\u001b[0;32m----> 4\u001b[0;31m \u001b[0;32mfrom\u001b[0m \u001b[0mgensim\u001b[0m\u001b[0;34m.\u001b[0m\u001b[0mmodels\u001b[0m \u001b[0;32mimport\u001b[0m \u001b[0mKeyedVectors\u001b[0m\u001b[0;34m\u001b[0m\u001b[0;34m\u001b[0m\u001b[0m\n\u001b[0m\u001b[1;32m      5\u001b[0m \u001b[0;32mimport\u001b[0m \u001b[0mtexthero\u001b[0m \u001b[0;32mas\u001b[0m \u001b[0mhero\u001b[0m\u001b[0;34m\u001b[0m\u001b[0;34m\u001b[0m\u001b[0m\n\u001b[1;32m      6\u001b[0m \u001b[0;32mfrom\u001b[0m \u001b[0mnltk\u001b[0m\u001b[0;34m.\u001b[0m\u001b[0msentiment\u001b[0m\u001b[0;34m.\u001b[0m\u001b[0mvader\u001b[0m \u001b[0;32mimport\u001b[0m \u001b[0mSentimentIntensityAnalyzer\u001b[0m\u001b[0;34m\u001b[0m\u001b[0;34m\u001b[0m\u001b[0m\n",
      "\u001b[0;31mModuleNotFoundError\u001b[0m: No module named 'gensim'"
     ]
    }
   ],
   "source": [
    "import matplotlib.pyplot as plt\n",
    "import pandas as pd\n",
    "import numpy as np\n",
    "from gensim.models import KeyedVectors\n",
    "import texthero as hero\n",
    "from nltk.sentiment.vader import SentimentIntensityAnalyzer\n",
    "\n"
   ]
  },
  {
   "cell_type": "code",
   "execution_count": null,
   "metadata": {},
   "outputs": [],
   "source": [
    "#!pip install -U gensim"
   ]
  },
  {
   "cell_type": "code",
   "execution_count": null,
   "metadata": {},
   "outputs": [],
   "source": [
    "def embed_glove(model, s):\n",
    "    #print(s)\n",
    "    return_ls = []\n",
    "    for sentence in s:\n",
    "        array = []\n",
    "        for word in str(sentence).split():\n",
    "            try:\n",
    "                array.append(model.get_vector(word))\n",
    "            except:\n",
    "                pass\n",
    "        array = np.array(array)\n",
    "        #print(array.shape)\n",
    "        return_ls.append(array.mean(axis = 0))\n",
    "    return return_ls"
   ]
  },
  {
   "cell_type": "code",
   "execution_count": null,
   "metadata": {},
   "outputs": [],
   "source": [
    "glove_filename='glove.6B.100d.txt'\n",
    "\n",
    "word2vec_output_file = glove_filename+'.word2vec'\n",
    "model = KeyedVectors.load_word2vec_format(word2vec_output_file, binary=False)"
   ]
  },
  {
   "cell_type": "code",
   "execution_count": null,
   "metadata": {},
   "outputs": [],
   "source": [
    "df = pd.read_csv('TaylorSwift.csv')\n",
    "df['embedded'] = embed_glove(model, df['Lyric'])\n",
    "df"
   ]
  },
  {
   "cell_type": "code",
   "execution_count": null,
   "metadata": {},
   "outputs": [],
   "source": [
    "df['tsne'] = hero.tsne( df['embedded'])\n",
    "df = df.dropna()\n",
    "df"
   ]
  },
  {
   "cell_type": "code",
   "execution_count": null,
   "metadata": {},
   "outputs": [],
   "source": [
    "hero.scatterplot(\n",
    "    df, \n",
    "    col='tsne', \n",
    "    color='Album', \n",
    "    title=\"\"\n",
    ")"
   ]
  },
  {
   "cell_type": "code",
   "execution_count": null,
   "metadata": {},
   "outputs": [],
   "source": [
    "#df['pca'] = hero.pca(df['embedded'])\n",
    "#df['tfidf'] = hero.tfidf(df['Lyric'])\n",
    "#df['pca'] = hero.tsne(df['tfidf'])\n",
    "#hero.scatterplot(\n",
    "#    df, \n",
    "#    col='pca', \n",
    "#    color='Album', \n",
    "#    title=\"Year\"\n",
    "#)"
   ]
  },
  {
   "cell_type": "code",
   "execution_count": null,
   "metadata": {},
   "outputs": [],
   "source": [
    "def setimentanalyzer(df):\n",
    "    neg='Negative'\n",
    "    neu='Neutral'\n",
    "    pos='Positive'\n",
    "    negative = []\n",
    "    neutral = []\n",
    "    positive = []\n",
    "    dominant_sentiment=[]\n",
    "    dominant_sentiment_score=[]\n",
    "    #Initialize the model\n",
    "    sid = SentimentIntensityAnalyzer()\n",
    "    #Iterate for each row of lyrics and append the scores\n",
    "    for i in df.index:\n",
    "       \n",
    "        scores = sid.polarity_scores(df['Lyric'].iloc[i])\n",
    "        negative.append(scores['neg'])\n",
    "        neutral.append(scores['neu'])\n",
    "        positive.append(scores['pos'])\n",
    "        if scores['neg']>scores['pos']:\n",
    "            dominant_sentiment_score.append(scores['neg'])\n",
    "            dominant_sentiment.append(neg)\n",
    "        elif scores['neg']<scores['pos']:\n",
    "            dominant_sentiment_score.append(scores['pos'])\n",
    "            dominant_sentiment.append(pos)\n",
    "        else:\n",
    "            dominant_sentiment_score.append(scores['neu'])\n",
    "            dominant_sentiment.append(neu)\n",
    "    #Create 5 columns to the main data frame  for each score\n",
    "    df['negative'] = negative\n",
    "    df['neutral'] = neutral\n",
    "    df['positive'] = positive\n",
    "    df['dominant_sentiment']=dominant_sentiment\n",
    "    df['dominant_sentiment_score']=dominant_sentiment_score\n",
    "    return df\n",
    "\n",
    "df = setimentanalyzer(df)"
   ]
  },
  {
   "cell_type": "code",
   "execution_count": null,
   "metadata": {},
   "outputs": [],
   "source": [
    "hero.scatterplot(\n",
    "    df, \n",
    "    col='tsne', \n",
    "    color='negative', \n",
    "    title=\"\"\n",
    ")"
   ]
  }
 ],
 "metadata": {
  "interpreter": {
   "hash": "e84c11b96d40bca2711257aa1373ef735c853f35901985e15f90e12312631005"
  },
  "kernelspec": {
   "display_name": "Python 3",
   "language": "python",
   "name": "python3"
  },
  "language_info": {
   "codemirror_mode": {
    "name": "ipython",
    "version": 3
   },
   "file_extension": ".py",
   "mimetype": "text/x-python",
   "name": "python",
   "nbconvert_exporter": "python",
   "pygments_lexer": "ipython3",
   "version": "3.8.2"
  }
 },
 "nbformat": 4,
 "nbformat_minor": 2
}

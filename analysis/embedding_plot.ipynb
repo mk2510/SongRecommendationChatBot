{
 "cells": [
  {
   "cell_type": "code",
   "execution_count": 21,
   "metadata": {},
   "outputs": [],
   "source": [
    "import matplotlib.pyplot as plt\n",
    "import pandas as pd\n",
    "import numpy as np\n",
    "from gensim.models import KeyedVectors\n",
    "import texthero as hero\n",
    "from nltk.sentiment.vader import SentimentIntensityAnalyzer\n",
    "\n"
   ]
  },
  {
   "cell_type": "code",
   "execution_count": 2,
   "metadata": {},
   "outputs": [],
   "source": [
    "def embed_glove(model, s):\n",
    "    #print(s)\n",
    "    return_ls = []\n",
    "    for sentence in s:\n",
    "        array = []\n",
    "        for word in str(sentence).split():\n",
    "            try:\n",
    "                array.append(model.get_vector(word))\n",
    "            except:\n",
    "                pass\n",
    "        array = np.array(array)\n",
    "        #print(array.shape)\n",
    "        return_ls.append(array.mean(axis = 0))\n",
    "    return return_ls"
   ]
  },
  {
   "cell_type": "code",
   "execution_count": 3,
   "metadata": {},
   "outputs": [],
   "source": [
    "glove_filename='glove.6B.100d.txt'\n",
    "\n",
    "word2vec_output_file = glove_filename+'.word2vec'\n",
    "model = KeyedVectors.load_word2vec_format(word2vec_output_file, binary=False)"
   ]
  },
  {
   "cell_type": "code",
   "execution_count": 6,
   "metadata": {},
   "outputs": [
    {
     "data": {
      "text/html": [
       "<div>\n",
       "<style scoped>\n",
       "    .dataframe tbody tr th:only-of-type {\n",
       "        vertical-align: middle;\n",
       "    }\n",
       "\n",
       "    .dataframe tbody tr th {\n",
       "        vertical-align: top;\n",
       "    }\n",
       "\n",
       "    .dataframe thead th {\n",
       "        text-align: right;\n",
       "    }\n",
       "</style>\n",
       "<table border=\"1\" class=\"dataframe\">\n",
       "  <thead>\n",
       "    <tr style=\"text-align: right;\">\n",
       "      <th></th>\n",
       "      <th>Unnamed: 0</th>\n",
       "      <th>Artist</th>\n",
       "      <th>Title</th>\n",
       "      <th>Album</th>\n",
       "      <th>Year</th>\n",
       "      <th>Date</th>\n",
       "      <th>Lyric</th>\n",
       "      <th>embedded</th>\n",
       "    </tr>\n",
       "  </thead>\n",
       "  <tbody>\n",
       "    <tr>\n",
       "      <th>0</th>\n",
       "      <td>0</td>\n",
       "      <td>Taylor Swift</td>\n",
       "      <td>​cardigan</td>\n",
       "      <td>folklore</td>\n",
       "      <td>2020.0</td>\n",
       "      <td>2020-07-24</td>\n",
       "      <td>vintage tee brand new phone high heels on cobb...</td>\n",
       "      <td>[-0.04936442, 0.22076005, 0.3989212, -0.381027...</td>\n",
       "    </tr>\n",
       "    <tr>\n",
       "      <th>1</th>\n",
       "      <td>1</td>\n",
       "      <td>Taylor Swift</td>\n",
       "      <td>​exile</td>\n",
       "      <td>folklore</td>\n",
       "      <td>2020.0</td>\n",
       "      <td>2020-07-24</td>\n",
       "      <td>justin vernon i can see you standing honey wit...</td>\n",
       "      <td>[-0.08032562, 0.27168834, 0.39763886, -0.34551...</td>\n",
       "    </tr>\n",
       "    <tr>\n",
       "      <th>2</th>\n",
       "      <td>2</td>\n",
       "      <td>Taylor Swift</td>\n",
       "      <td>Lover</td>\n",
       "      <td>Lover</td>\n",
       "      <td>2019.0</td>\n",
       "      <td>2019-08-16</td>\n",
       "      <td>we could leave the christmas lights up 'til ja...</td>\n",
       "      <td>[-0.13587536, 0.2712521, 0.45893988, -0.356685...</td>\n",
       "    </tr>\n",
       "    <tr>\n",
       "      <th>3</th>\n",
       "      <td>3</td>\n",
       "      <td>Taylor Swift</td>\n",
       "      <td>​the 1</td>\n",
       "      <td>folklore</td>\n",
       "      <td>2020.0</td>\n",
       "      <td>2020-07-24</td>\n",
       "      <td>i'm doing good i'm on some new shit been sayin...</td>\n",
       "      <td>[-0.074463576, 0.28702453, 0.44641495, -0.3564...</td>\n",
       "    </tr>\n",
       "    <tr>\n",
       "      <th>4</th>\n",
       "      <td>4</td>\n",
       "      <td>Taylor Swift</td>\n",
       "      <td>Look What You Made Me Do</td>\n",
       "      <td>reputation</td>\n",
       "      <td>2017.0</td>\n",
       "      <td>2017-08-25</td>\n",
       "      <td>i don't like your little games don't like your...</td>\n",
       "      <td>[-0.10272202, 0.27085683, 0.55602795, -0.45260...</td>\n",
       "    </tr>\n",
       "    <tr>\n",
       "      <th>...</th>\n",
       "      <td>...</td>\n",
       "      <td>...</td>\n",
       "      <td>...</td>\n",
       "      <td>...</td>\n",
       "      <td>...</td>\n",
       "      <td>...</td>\n",
       "      <td>...</td>\n",
       "      <td>...</td>\n",
       "    </tr>\n",
       "    <tr>\n",
       "      <th>474</th>\n",
       "      <td>474</td>\n",
       "      <td>Taylor Swift</td>\n",
       "      <td>Teardrops on my Guitar (Live from Clear Channe...</td>\n",
       "      <td>Live From Clear Channel Stripped 2008</td>\n",
       "      <td>2008.0</td>\n",
       "      <td>2008-06-28</td>\n",
       "      <td>drew looks at me i fake a smile so he won't se...</td>\n",
       "      <td>[-0.012135044, 0.2152403, 0.45065263, -0.32267...</td>\n",
       "    </tr>\n",
       "    <tr>\n",
       "      <th>475</th>\n",
       "      <td>475</td>\n",
       "      <td>Taylor Swift</td>\n",
       "      <td>Evermore [Forward]</td>\n",
       "      <td>NaN</td>\n",
       "      <td>2020.0</td>\n",
       "      <td>2020-12-11</td>\n",
       "      <td>to put it plainly we just couldnt stop writing...</td>\n",
       "      <td>[-0.11120423, 0.19682164, 0.36371264, -0.23260...</td>\n",
       "    </tr>\n",
       "    <tr>\n",
       "      <th>476</th>\n",
       "      <td>476</td>\n",
       "      <td>Taylor Swift</td>\n",
       "      <td>Welcome Back Grunwald</td>\n",
       "      <td>NaN</td>\n",
       "      <td>NaN</td>\n",
       "      <td>NaN</td>\n",
       "      <td>turn wycd on you're on your grunwald back from...</td>\n",
       "      <td>[-0.10446095, 0.049317565, 0.46583098, -0.4045...</td>\n",
       "    </tr>\n",
       "    <tr>\n",
       "      <th>477</th>\n",
       "      <td>477</td>\n",
       "      <td>Taylor Swift</td>\n",
       "      <td>Tolerate it (Polskie Tłumaczenie)</td>\n",
       "      <td>NaN</td>\n",
       "      <td>2020.0</td>\n",
       "      <td>2020-12-11</td>\n",
       "      <td>zwrotka  siedzę i patrzę jak czytasz z głową p...</td>\n",
       "      <td>[-0.15699837, 0.036558278, 0.2239443, -0.10477...</td>\n",
       "    </tr>\n",
       "    <tr>\n",
       "      <th>478</th>\n",
       "      <td>478</td>\n",
       "      <td>Taylor Swift</td>\n",
       "      <td>Find you</td>\n",
       "      <td>NaN</td>\n",
       "      <td>NaN</td>\n",
       "      <td>NaN</td>\n",
       "      <td>trying just like they say just taking the step...</td>\n",
       "      <td>[-0.11952829, 0.2078211, 0.49450988, -0.209730...</td>\n",
       "    </tr>\n",
       "  </tbody>\n",
       "</table>\n",
       "<p>479 rows × 8 columns</p>\n",
       "</div>"
      ],
      "text/plain": [
       "     Unnamed: 0        Artist  \\\n",
       "0             0  Taylor Swift   \n",
       "1             1  Taylor Swift   \n",
       "2             2  Taylor Swift   \n",
       "3             3  Taylor Swift   \n",
       "4             4  Taylor Swift   \n",
       "..          ...           ...   \n",
       "474         474  Taylor Swift   \n",
       "475         475  Taylor Swift   \n",
       "476         476  Taylor Swift   \n",
       "477         477  Taylor Swift   \n",
       "478         478  Taylor Swift   \n",
       "\n",
       "                                                 Title  \\\n",
       "0                                            ​cardigan   \n",
       "1                                               ​exile   \n",
       "2                                                Lover   \n",
       "3                                               ​the 1   \n",
       "4                             Look What You Made Me Do   \n",
       "..                                                 ...   \n",
       "474  Teardrops on my Guitar (Live from Clear Channe...   \n",
       "475                                 Evermore [Forward]   \n",
       "476                              Welcome Back Grunwald   \n",
       "477                  Tolerate it (Polskie Tłumaczenie)   \n",
       "478                                           Find you   \n",
       "\n",
       "                                      Album    Year        Date  \\\n",
       "0                                  folklore  2020.0  2020-07-24   \n",
       "1                                  folklore  2020.0  2020-07-24   \n",
       "2                                     Lover  2019.0  2019-08-16   \n",
       "3                                  folklore  2020.0  2020-07-24   \n",
       "4                                reputation  2017.0  2017-08-25   \n",
       "..                                      ...     ...         ...   \n",
       "474  Live From Clear Channel Stripped 2008   2008.0  2008-06-28   \n",
       "475                                     NaN  2020.0  2020-12-11   \n",
       "476                                     NaN     NaN         NaN   \n",
       "477                                     NaN  2020.0  2020-12-11   \n",
       "478                                     NaN     NaN         NaN   \n",
       "\n",
       "                                                 Lyric  \\\n",
       "0    vintage tee brand new phone high heels on cobb...   \n",
       "1    justin vernon i can see you standing honey wit...   \n",
       "2    we could leave the christmas lights up 'til ja...   \n",
       "3    i'm doing good i'm on some new shit been sayin...   \n",
       "4    i don't like your little games don't like your...   \n",
       "..                                                 ...   \n",
       "474  drew looks at me i fake a smile so he won't se...   \n",
       "475  to put it plainly we just couldnt stop writing...   \n",
       "476  turn wycd on you're on your grunwald back from...   \n",
       "477  zwrotka  siedzę i patrzę jak czytasz z głową p...   \n",
       "478  trying just like they say just taking the step...   \n",
       "\n",
       "                                              embedded  \n",
       "0    [-0.04936442, 0.22076005, 0.3989212, -0.381027...  \n",
       "1    [-0.08032562, 0.27168834, 0.39763886, -0.34551...  \n",
       "2    [-0.13587536, 0.2712521, 0.45893988, -0.356685...  \n",
       "3    [-0.074463576, 0.28702453, 0.44641495, -0.3564...  \n",
       "4    [-0.10272202, 0.27085683, 0.55602795, -0.45260...  \n",
       "..                                                 ...  \n",
       "474  [-0.012135044, 0.2152403, 0.45065263, -0.32267...  \n",
       "475  [-0.11120423, 0.19682164, 0.36371264, -0.23260...  \n",
       "476  [-0.10446095, 0.049317565, 0.46583098, -0.4045...  \n",
       "477  [-0.15699837, 0.036558278, 0.2239443, -0.10477...  \n",
       "478  [-0.11952829, 0.2078211, 0.49450988, -0.209730...  \n",
       "\n",
       "[479 rows x 8 columns]"
      ]
     },
     "execution_count": 6,
     "metadata": {},
     "output_type": "execute_result"
    }
   ],
   "source": [
    "df = pd.read_csv('TaylorSwift.csv')\n",
    "df['embedded'] = embed_glove(model, df['Lyric'])\n",
    "df"
   ]
  },
  {
   "cell_type": "code",
   "execution_count": 7,
   "metadata": {},
   "outputs": [
    {
     "data": {
      "text/html": [
       "<div>\n",
       "<style scoped>\n",
       "    .dataframe tbody tr th:only-of-type {\n",
       "        vertical-align: middle;\n",
       "    }\n",
       "\n",
       "    .dataframe tbody tr th {\n",
       "        vertical-align: top;\n",
       "    }\n",
       "\n",
       "    .dataframe thead th {\n",
       "        text-align: right;\n",
       "    }\n",
       "</style>\n",
       "<table border=\"1\" class=\"dataframe\">\n",
       "  <thead>\n",
       "    <tr style=\"text-align: right;\">\n",
       "      <th></th>\n",
       "      <th>Unnamed: 0</th>\n",
       "      <th>Artist</th>\n",
       "      <th>Title</th>\n",
       "      <th>Album</th>\n",
       "      <th>Year</th>\n",
       "      <th>Date</th>\n",
       "      <th>Lyric</th>\n",
       "      <th>embedded</th>\n",
       "      <th>tsne</th>\n",
       "    </tr>\n",
       "  </thead>\n",
       "  <tbody>\n",
       "    <tr>\n",
       "      <th>0</th>\n",
       "      <td>0</td>\n",
       "      <td>Taylor Swift</td>\n",
       "      <td>​cardigan</td>\n",
       "      <td>folklore</td>\n",
       "      <td>2020.0</td>\n",
       "      <td>2020-07-24</td>\n",
       "      <td>vintage tee brand new phone high heels on cobb...</td>\n",
       "      <td>[-0.04936442, 0.22076005, 0.3989212, -0.381027...</td>\n",
       "      <td>[-2.8055171966552734, -2.7598016262054443]</td>\n",
       "    </tr>\n",
       "    <tr>\n",
       "      <th>1</th>\n",
       "      <td>1</td>\n",
       "      <td>Taylor Swift</td>\n",
       "      <td>​exile</td>\n",
       "      <td>folklore</td>\n",
       "      <td>2020.0</td>\n",
       "      <td>2020-07-24</td>\n",
       "      <td>justin vernon i can see you standing honey wit...</td>\n",
       "      <td>[-0.08032562, 0.27168834, 0.39763886, -0.34551...</td>\n",
       "      <td>[-5.641112804412842, -1.4198912382125854]</td>\n",
       "    </tr>\n",
       "    <tr>\n",
       "      <th>2</th>\n",
       "      <td>2</td>\n",
       "      <td>Taylor Swift</td>\n",
       "      <td>Lover</td>\n",
       "      <td>Lover</td>\n",
       "      <td>2019.0</td>\n",
       "      <td>2019-08-16</td>\n",
       "      <td>we could leave the christmas lights up 'til ja...</td>\n",
       "      <td>[-0.13587536, 0.2712521, 0.45893988, -0.356685...</td>\n",
       "      <td>[-25.46312713623047, -5.804000377655029]</td>\n",
       "    </tr>\n",
       "    <tr>\n",
       "      <th>3</th>\n",
       "      <td>3</td>\n",
       "      <td>Taylor Swift</td>\n",
       "      <td>​the 1</td>\n",
       "      <td>folklore</td>\n",
       "      <td>2020.0</td>\n",
       "      <td>2020-07-24</td>\n",
       "      <td>i'm doing good i'm on some new shit been sayin...</td>\n",
       "      <td>[-0.074463576, 0.28702453, 0.44641495, -0.3564...</td>\n",
       "      <td>[-11.805758476257324, 0.7628572583198547]</td>\n",
       "    </tr>\n",
       "    <tr>\n",
       "      <th>4</th>\n",
       "      <td>4</td>\n",
       "      <td>Taylor Swift</td>\n",
       "      <td>Look What You Made Me Do</td>\n",
       "      <td>reputation</td>\n",
       "      <td>2017.0</td>\n",
       "      <td>2017-08-25</td>\n",
       "      <td>i don't like your little games don't like your...</td>\n",
       "      <td>[-0.10272202, 0.27085683, 0.55602795, -0.45260...</td>\n",
       "      <td>[-16.157672882080078, -24.54958724975586]</td>\n",
       "    </tr>\n",
       "    <tr>\n",
       "      <th>...</th>\n",
       "      <td>...</td>\n",
       "      <td>...</td>\n",
       "      <td>...</td>\n",
       "      <td>...</td>\n",
       "      <td>...</td>\n",
       "      <td>...</td>\n",
       "      <td>...</td>\n",
       "      <td>...</td>\n",
       "      <td>...</td>\n",
       "    </tr>\n",
       "    <tr>\n",
       "      <th>470</th>\n",
       "      <td>470</td>\n",
       "      <td>Taylor Swift</td>\n",
       "      <td>Teardrops on My Guitar (Live from SoHo)</td>\n",
       "      <td>Live from SoHo - EP</td>\n",
       "      <td>2008.0</td>\n",
       "      <td>2008-01-15</td>\n",
       "      <td>drew looks at me i  fake a smile so he won't s...</td>\n",
       "      <td>[-0.01307675, 0.2213254, 0.45528087, -0.320209...</td>\n",
       "      <td>[-7.291515827178955, -4.465409755706787]</td>\n",
       "    </tr>\n",
       "    <tr>\n",
       "      <th>471</th>\n",
       "      <td>471</td>\n",
       "      <td>Taylor Swift</td>\n",
       "      <td>Picture To Burn (Live from Clear Channel Strip...</td>\n",
       "      <td>Live From Clear Channel Stripped 2008</td>\n",
       "      <td>2008.0</td>\n",
       "      <td>2008-07-28</td>\n",
       "      <td>state the obvious i didn't get my perfect fant...</td>\n",
       "      <td>[-0.07651639, 0.23102626, 0.4662703, -0.386980...</td>\n",
       "      <td>[7.242705345153809, -10.132895469665527]</td>\n",
       "    </tr>\n",
       "    <tr>\n",
       "      <th>472</th>\n",
       "      <td>472</td>\n",
       "      <td>Taylor Swift</td>\n",
       "      <td>Rare Peer (Brenda Lee Tribute)</td>\n",
       "      <td>Woman Walk The Line</td>\n",
       "      <td>2017.0</td>\n",
       "      <td>2017-09-20</td>\n",
       "      <td>i'm curled up in my mother's bed staring inten...</td>\n",
       "      <td>[-2.4537117e-05, 0.14429724, 0.34610268, -0.22...</td>\n",
       "      <td>[9.790163040161133, 24.44515609741211]</td>\n",
       "    </tr>\n",
       "    <tr>\n",
       "      <th>473</th>\n",
       "      <td>473</td>\n",
       "      <td>Taylor Swift</td>\n",
       "      <td>Should’ve Said No (Live from Clear Channel Str...</td>\n",
       "      <td>Live From Clear Channel Stripped 2008</td>\n",
       "      <td>2008.0</td>\n",
       "      <td>2008-06-28</td>\n",
       "      <td>it's strange to think the songs we used to sin...</td>\n",
       "      <td>[-0.060324643, 0.32480863, 0.5295578, -0.40079...</td>\n",
       "      <td>[-18.6934871673584, -16.891639709472656]</td>\n",
       "    </tr>\n",
       "    <tr>\n",
       "      <th>474</th>\n",
       "      <td>474</td>\n",
       "      <td>Taylor Swift</td>\n",
       "      <td>Teardrops on my Guitar (Live from Clear Channe...</td>\n",
       "      <td>Live From Clear Channel Stripped 2008</td>\n",
       "      <td>2008.0</td>\n",
       "      <td>2008-06-28</td>\n",
       "      <td>drew looks at me i fake a smile so he won't se...</td>\n",
       "      <td>[-0.012135044, 0.2152403, 0.45065263, -0.32267...</td>\n",
       "      <td>[-7.6287126541137695, -3.343564510345459]</td>\n",
       "    </tr>\n",
       "  </tbody>\n",
       "</table>\n",
       "<p>278 rows × 9 columns</p>\n",
       "</div>"
      ],
      "text/plain": [
       "     Unnamed: 0        Artist  \\\n",
       "0             0  Taylor Swift   \n",
       "1             1  Taylor Swift   \n",
       "2             2  Taylor Swift   \n",
       "3             3  Taylor Swift   \n",
       "4             4  Taylor Swift   \n",
       "..          ...           ...   \n",
       "470         470  Taylor Swift   \n",
       "471         471  Taylor Swift   \n",
       "472         472  Taylor Swift   \n",
       "473         473  Taylor Swift   \n",
       "474         474  Taylor Swift   \n",
       "\n",
       "                                                 Title  \\\n",
       "0                                            ​cardigan   \n",
       "1                                               ​exile   \n",
       "2                                                Lover   \n",
       "3                                               ​the 1   \n",
       "4                             Look What You Made Me Do   \n",
       "..                                                 ...   \n",
       "470            Teardrops on My Guitar (Live from SoHo)   \n",
       "471  Picture To Burn (Live from Clear Channel Strip...   \n",
       "472                     Rare Peer (Brenda Lee Tribute)   \n",
       "473  Should’ve Said No (Live from Clear Channel Str...   \n",
       "474  Teardrops on my Guitar (Live from Clear Channe...   \n",
       "\n",
       "                                      Album    Year        Date  \\\n",
       "0                                  folklore  2020.0  2020-07-24   \n",
       "1                                  folklore  2020.0  2020-07-24   \n",
       "2                                     Lover  2019.0  2019-08-16   \n",
       "3                                  folklore  2020.0  2020-07-24   \n",
       "4                                reputation  2017.0  2017-08-25   \n",
       "..                                      ...     ...         ...   \n",
       "470                     Live from SoHo - EP  2008.0  2008-01-15   \n",
       "471  Live From Clear Channel Stripped 2008   2008.0  2008-07-28   \n",
       "472                    Woman Walk The Line   2017.0  2017-09-20   \n",
       "473  Live From Clear Channel Stripped 2008   2008.0  2008-06-28   \n",
       "474  Live From Clear Channel Stripped 2008   2008.0  2008-06-28   \n",
       "\n",
       "                                                 Lyric  \\\n",
       "0    vintage tee brand new phone high heels on cobb...   \n",
       "1    justin vernon i can see you standing honey wit...   \n",
       "2    we could leave the christmas lights up 'til ja...   \n",
       "3    i'm doing good i'm on some new shit been sayin...   \n",
       "4    i don't like your little games don't like your...   \n",
       "..                                                 ...   \n",
       "470  drew looks at me i  fake a smile so he won't s...   \n",
       "471  state the obvious i didn't get my perfect fant...   \n",
       "472  i'm curled up in my mother's bed staring inten...   \n",
       "473  it's strange to think the songs we used to sin...   \n",
       "474  drew looks at me i fake a smile so he won't se...   \n",
       "\n",
       "                                              embedded  \\\n",
       "0    [-0.04936442, 0.22076005, 0.3989212, -0.381027...   \n",
       "1    [-0.08032562, 0.27168834, 0.39763886, -0.34551...   \n",
       "2    [-0.13587536, 0.2712521, 0.45893988, -0.356685...   \n",
       "3    [-0.074463576, 0.28702453, 0.44641495, -0.3564...   \n",
       "4    [-0.10272202, 0.27085683, 0.55602795, -0.45260...   \n",
       "..                                                 ...   \n",
       "470  [-0.01307675, 0.2213254, 0.45528087, -0.320209...   \n",
       "471  [-0.07651639, 0.23102626, 0.4662703, -0.386980...   \n",
       "472  [-2.4537117e-05, 0.14429724, 0.34610268, -0.22...   \n",
       "473  [-0.060324643, 0.32480863, 0.5295578, -0.40079...   \n",
       "474  [-0.012135044, 0.2152403, 0.45065263, -0.32267...   \n",
       "\n",
       "                                           tsne  \n",
       "0    [-2.8055171966552734, -2.7598016262054443]  \n",
       "1     [-5.641112804412842, -1.4198912382125854]  \n",
       "2      [-25.46312713623047, -5.804000377655029]  \n",
       "3     [-11.805758476257324, 0.7628572583198547]  \n",
       "4     [-16.157672882080078, -24.54958724975586]  \n",
       "..                                          ...  \n",
       "470    [-7.291515827178955, -4.465409755706787]  \n",
       "471    [7.242705345153809, -10.132895469665527]  \n",
       "472      [9.790163040161133, 24.44515609741211]  \n",
       "473    [-18.6934871673584, -16.891639709472656]  \n",
       "474   [-7.6287126541137695, -3.343564510345459]  \n",
       "\n",
       "[278 rows x 9 columns]"
      ]
     },
     "execution_count": 7,
     "metadata": {},
     "output_type": "execute_result"
    }
   ],
   "source": [
    "df['tsne'] = hero.tsne( df['embedded'])\n",
    "df = df.dropna()\n",
    "df"
   ]
  },
  {
   "cell_type": "code",
   "execution_count": 20,
   "metadata": {},
   "outputs": [
    {
     "data": {
      "application/vnd.plotly.v1+json": {
       "config": {
        "plotlyServerURL": "https://plot.ly"
       },
       "data": [
        {
         "hovertemplate": "Album=folklore<br>x=%{x}<br>y=%{y}<extra></extra>",
         "legendgroup": "folklore",
         "marker": {
          "color": "#636efa",
          "symbol": "circle"
         },
         "mode": "markers",
         "name": "folklore",
         "orientation": "v",
         "showlegend": true,
         "type": "scatter",
         "x": [
          -2.8055171966552734,
          -5.641112804412842,
          -11.805758476257324,
          -9.719441413879395,
          -5.324644565582275,
          1.1427947282791138,
          2.9203450679779053,
          9.210506439208984,
          6.257884979248047,
          6.227473735809326,
          -11.985506057739258,
          -13.024944305419922,
          -24.390575408935547,
          11.971537590026855,
          9.704757690429688,
          9.18994140625
         ],
         "xaxis": "x",
         "y": [
          -2.7598016262054443,
          -1.4198912382125854,
          0.7628572583198547,
          -9.612337112426758,
          22.466480255126953,
          -10.464622497558594,
          24.144208908081055,
          23.138837814331055,
          5.791484832763672,
          11.998257637023926,
          5.836635589599609,
          10.474180221557617,
          -11.579331398010254,
          6.193097114562988,
          8.882159233093262,
          -17.386295318603516
         ],
         "yaxis": "y"
        },
        {
         "hovertemplate": "Album=Lover<br>x=%{x}<br>y=%{y}<extra></extra>",
         "legendgroup": "Lover",
         "marker": {
          "color": "#EF553B",
          "symbol": "circle"
         },
         "mode": "markers",
         "name": "Lover",
         "orientation": "v",
         "showlegend": true,
         "type": "scatter",
         "x": [
          -25.46312713623047,
          5.57586669921875,
          -20.204668045043945,
          13.355392456054688,
          -4.5326385498046875,
          -17.63267707824707,
          9.361226081848145,
          11.70589542388916,
          6.654901027679443,
          -17.470294952392578,
          -2.0097224712371826,
          -12.03265380859375,
          12.479784965515137,
          -11.0599946975708,
          -14.963105201721191,
          -14.191669464111328,
          -20.496957778930664,
          15.6748628616333
         ],
         "xaxis": "x",
         "y": [
          -5.804000377655029,
          -1.4153640270233154,
          -0.6769656538963318,
          -2.569268226623535,
          4.484106063842773,
          1.9847807884216309,
          -6.721071720123291,
          -5.018689155578613,
          8.91065788269043,
          16.575260162353516,
          -12.365886688232422,
          -1.747029185295105,
          -2.3153629302978516,
          11.440140724182129,
          -27.812885284423828,
          -26.207353591918945,
          -11.888859748840332,
          -2.2535529136657715
         ],
         "yaxis": "y"
        },
        {
         "hovertemplate": "Album=reputation<br>x=%{x}<br>y=%{y}<extra></extra>",
         "legendgroup": "reputation",
         "marker": {
          "color": "#00cc96",
          "symbol": "circle"
         },
         "mode": "markers",
         "name": "reputation",
         "orientation": "v",
         "showlegend": true,
         "type": "scatter",
         "x": [
          -16.157672882080078,
          -6.716176509857178,
          -5.328927516937256,
          -11.786811828613281,
          -13.841483116149902,
          -4.292261123657227,
          -2.217792510986328,
          -15.926198959350586,
          13.651467323303223,
          -4.494561672210693,
          15.402008056640625,
          -0.054445747286081314,
          -7.474980354309082,
          -13.143808364868164,
          -1.8788281679153442,
          10.469847679138184,
          4.386014938354492,
          3.505288600921631
         ],
         "xaxis": "x",
         "y": [
          -24.54958724975586,
          -29.318931579589844,
          10.037893295288086,
          -22.316448211669922,
          -15.299527168273926,
          -19.63524627685547,
          -14.438654899597168,
          -3.247831106185913,
          2.3217406272888184,
          24.539155960083008,
          7.708375453948975,
          21.67969512939453,
          -14.625534057617188,
          -9.959309577941895,
          4.562548637390137,
          23.7554988861084,
          18.190868377685547,
          -14.81584644317627
         ],
         "yaxis": "y"
        },
        {
         "hovertemplate": "Album=1989<br>x=%{x}<br>y=%{y}<extra></extra>",
         "legendgroup": "1989",
         "marker": {
          "color": "#ab63fa",
          "symbol": "circle"
         },
         "mode": "markers",
         "name": "1989",
         "orientation": "v",
         "showlegend": true,
         "type": "scatter",
         "x": [
          8.803221702575684,
          -4.217052936553955,
          -7.078868389129639,
          17.49345588684082,
          14.199667930603027,
          7.619633674621582,
          -3.0015358924865723,
          -8.202648162841797,
          -23.711624145507812,
          -19.97942352294922,
          1.4930623769760132,
          -19.532135009765625,
          -1.403652310371399
         ],
         "xaxis": "x",
         "y": [
          -5.944708824157715,
          -7.18412446975708,
          -25.660749435424805,
          2.1113691329956055,
          -4.1505584716796875,
          -7.5292649269104,
          17.16615104675293,
          15.737632751464844,
          -23.10612678527832,
          -15.207722663879395,
          20.43756103515625,
          -26.59458351135254,
          -24.220277786254883
         ],
         "yaxis": "y"
        },
        {
         "hovertemplate": "Album=evermore<br>x=%{x}<br>y=%{y}<extra></extra>",
         "legendgroup": "evermore",
         "marker": {
          "color": "#FFA15A",
          "symbol": "circle"
         },
         "mode": "markers",
         "name": "evermore",
         "orientation": "v",
         "showlegend": true,
         "type": "scatter",
         "x": [
          0.256582647562027,
          11.00854778289795,
          3.7813007831573486,
          -1.958201289176941,
          0.3356392979621887,
          10.11030387878418,
          -4.916590213775635,
          -6.104673385620117,
          10.448563575744629,
          13.252398490905762,
          13.459307670593262,
          -1.2933247089385986,
          12.260601043701172,
          -0.6197442412376404,
          -4.479433536529541
         ],
         "xaxis": "x",
         "y": [
          -15.325830459594727,
          9.090880393981934,
          15.565108299255371,
          13.232726097106934,
          -19.058141708374023,
          3.7284719944000244,
          -12.761444091796875,
          7.972174167633057,
          10.44663143157959,
          11.022294998168945,
          0.3410681188106537,
          9.096753120422363,
          10.70695972442627,
          -9.615999221801758,
          -14.000661849975586
         ],
         "yaxis": "y"
        },
        {
         "hovertemplate": "Album=Now That’s What I Call Music! 56 [US]<br>x=%{x}<br>y=%{y}<extra></extra>",
         "legendgroup": "Now That’s What I Call Music! 56 [US]",
         "marker": {
          "color": "#19d3f3",
          "symbol": "circle"
         },
         "mode": "markers",
         "name": "Now That’s What I Call Music! 56 [US]",
         "orientation": "v",
         "showlegend": true,
         "type": "scatter",
         "x": [
          -5.788640975952148
         ],
         "xaxis": "x",
         "y": [
          -27.18304443359375
         ],
         "yaxis": "y"
        },
        {
         "hovertemplate": "Album=Fearless<br>x=%{x}<br>y=%{y}<extra></extra>",
         "legendgroup": "Fearless",
         "marker": {
          "color": "#FF6692",
          "symbol": "circle"
         },
         "mode": "markers",
         "name": "Fearless",
         "orientation": "v",
         "showlegend": true,
         "type": "scatter",
         "x": [
          -0.7403727173805237,
          -12.528275489807129,
          2.65573787689209,
          10.495894432067871,
          -1.6826821565628052,
          12.843369483947754,
          -11.447529792785645,
          -2.18953013420105,
          -6.650705814361572,
          -15.225569725036621,
          -21.124832153320312,
          -19.862178802490234,
          -17.385299682617188
         ],
         "xaxis": "x",
         "y": [
          -5.607669830322266,
          -12.239102363586426,
          -4.71237850189209,
          -9.171751976013184,
          8.501008987426758,
          -11.891369819641113,
          -3.045445442199707,
          -0.8362393975257874,
          5.474300861358643,
          -18.819355010986328,
          -17.613725662231445,
          10.879095077514648,
          -22.891334533691406
         ],
         "yaxis": "y"
        },
        {
         "hovertemplate": "Album=Red (Deluxe Edition)<br>x=%{x}<br>y=%{y}<extra></extra>",
         "legendgroup": "Red (Deluxe Edition)",
         "marker": {
          "color": "#B6E880",
          "symbol": "circle"
         },
         "mode": "markers",
         "name": "Red (Deluxe Edition)",
         "orientation": "v",
         "showlegend": true,
         "type": "scatter",
         "x": [
          -7.909882068634033,
          4.833302974700928,
          -23.042234420776367,
          -3.8170692920684814,
          -15.185943603515625,
          1.182701587677002,
          13.848045349121094,
          -6.756135940551758,
          -3.2877674102783203,
          -24.34099578857422,
          -7.458981037139893,
          2.887387990951538,
          8.468731880187988,
          12.817752838134766,
          -19.146135330200195,
          16.613977432250977,
          -19.050626754760742,
          -25.565732955932617,
          13.823814392089844,
          -9.091280937194824,
          1.1635982990264893,
          -24.33591651916504
         ],
         "xaxis": "x",
         "y": [
          0.057259220629930496,
          -6.547964096069336,
          -20.627107620239258,
          -23.677715301513672,
          -30.009984970092773,
          14.717962265014648,
          18.941457748413086,
          3.278817892074585,
          6.265986442565918,
          2.3309571743011475,
          5.869255542755127,
          4.19632625579834,
          5.9327006340026855,
          -1.379364013671875,
          -21.707584381103516,
          6.255292892456055,
          -5.188060283660889,
          -16.921281814575195,
          18.98297882080078,
          -7.377299785614014,
          14.7139253616333,
          2.3025996685028076
         ],
         "yaxis": "y"
        },
        {
         "hovertemplate": "Album=folklore (deluxe version)<br>x=%{x}<br>y=%{y}<extra></extra>",
         "legendgroup": "folklore (deluxe version)",
         "marker": {
          "color": "#FF97FF",
          "symbol": "circle"
         },
         "mode": "markers",
         "name": "folklore (deluxe version)",
         "orientation": "v",
         "showlegend": true,
         "type": "scatter",
         "x": [
          9.093953132629395,
          11.454150199890137
         ],
         "xaxis": "x",
         "y": [
          12.44118595123291,
          22.75545883178711
         ],
         "yaxis": "y"
        },
        {
         "hovertemplate": "Album=evermore (Japanese Edition)<br>x=%{x}<br>y=%{y}<extra></extra>",
         "legendgroup": "evermore (Japanese Edition)",
         "marker": {
          "color": "#FECB52",
          "symbol": "circle"
         },
         "mode": "markers",
         "name": "evermore (Japanese Edition)",
         "orientation": "v",
         "showlegend": true,
         "type": "scatter",
         "x": [
          -0.2820526361465454,
          -2.2686729431152344,
          0.7573701739311218,
          -0.254850834608078
         ],
         "xaxis": "x",
         "y": [
          -7.986331462860107,
          11.701375961303711,
          -14.901005744934082,
          -14.645774841308594
         ],
         "yaxis": "y"
        },
        {
         "hovertemplate": "Album=1989 (Deluxe)<br>x=%{x}<br>y=%{y}<extra></extra>",
         "legendgroup": "1989 (Deluxe)",
         "marker": {
          "color": "#636efa",
          "symbol": "circle"
         },
         "mode": "markers",
         "name": "1989 (Deluxe)",
         "orientation": "v",
         "showlegend": true,
         "type": "scatter",
         "x": [
          14.66116714477539,
          -6.288497447967529,
          20.65615463256836,
          -9.432229042053223,
          6.240522861480713,
          -6.185157299041748
         ],
         "xaxis": "x",
         "y": [
          4.981827259063721,
          13.456862449645996,
          3.234482526779175,
          8.040938377380371,
          1.6252903938293457,
          1.4841934442520142
         ],
         "yaxis": "y"
        },
        {
         "hovertemplate": "Album=NOW That’s What I Call Music! 73 [US]<br>x=%{x}<br>y=%{y}<extra></extra>",
         "legendgroup": "NOW That’s What I Call Music! 73 [US]",
         "marker": {
          "color": "#EF553B",
          "symbol": "circle"
         },
         "mode": "markers",
         "name": "NOW That’s What I Call Music! 73 [US]",
         "orientation": "v",
         "showlegend": true,
         "type": "scatter",
         "x": [
          -24.94289207458496
         ],
         "xaxis": "x",
         "y": [
          -4.639753341674805
         ],
         "yaxis": "y"
        },
        {
         "hovertemplate": "Album=Speak Now<br>x=%{x}<br>y=%{y}<extra></extra>",
         "legendgroup": "Speak Now",
         "marker": {
          "color": "#00cc96",
          "symbol": "circle"
         },
         "mode": "markers",
         "name": "Speak Now",
         "orientation": "v",
         "showlegend": true,
         "type": "scatter",
         "x": [
          -0.6510677337646484,
          3.976097822189331,
          -5.217837333679199,
          -7.581031799316406,
          -8.45800495147705,
          -0.7736947536468506,
          -8.556900978088379,
          -10.958003044128418,
          7.271268844604492,
          -7.205438613891602,
          -8.504227638244629,
          -22.128551483154297,
          2.923672676086426,
          -8.268906593322754
         ],
         "xaxis": "x",
         "y": [
          -1.826350450515747,
          -18.28208351135254,
          -11.547738075256348,
          7.820759296417236,
          2.149705410003662,
          19.356273651123047,
          -19.770219802856445,
          -6.957474708557129,
          -13.959818840026855,
          10.931832313537598,
          9.786446571350098,
          -22.451786041259766,
          11.5599946975708,
          -21.31769561767578
         ],
         "yaxis": "y"
        },
        {
         "hovertemplate": "Album=The Hunger Games: Songs from District 12 and Beyond<br>x=%{x}<br>y=%{y}<extra></extra>",
         "legendgroup": "The Hunger Games: Songs from District 12 and Beyond",
         "marker": {
          "color": "#ab63fa",
          "symbol": "circle"
         },
         "mode": "markers",
         "name": "The Hunger Games: Songs from District 12 and Beyond",
         "orientation": "v",
         "showlegend": true,
         "type": "scatter",
         "x": [
          14.712921142578125,
          5.593113899230957
         ],
         "xaxis": "x",
         "y": [
          10.269471168518066,
          -15.156761169433594
         ],
         "yaxis": "y"
        },
        {
         "hovertemplate": "Album=Cats: Highlights From the Motion Picture Soundtrack<br>x=%{x}<br>y=%{y}<extra></extra>",
         "legendgroup": "Cats: Highlights From the Motion Picture Soundtrack",
         "marker": {
          "color": "#FFA15A",
          "symbol": "circle"
         },
         "mode": "markers",
         "name": "Cats: Highlights From the Motion Picture Soundtrack",
         "orientation": "v",
         "showlegend": true,
         "type": "scatter",
         "x": [
          -0.841158390045166,
          10.820289611816406
         ],
         "xaxis": "x",
         "y": [
          15.756550788879395,
          21.71448516845703
         ],
         "yaxis": "y"
        },
        {
         "hovertemplate": "Album=Taylor Swift<br>x=%{x}<br>y=%{y}<extra></extra>",
         "legendgroup": "Taylor Swift",
         "marker": {
          "color": "#19d3f3",
          "symbol": "circle"
         },
         "mode": "markers",
         "name": "Taylor Swift",
         "orientation": "v",
         "showlegend": true,
         "type": "scatter",
         "x": [
          -6.6117401123046875,
          3.3046858310699463,
          1.6047333478927612,
          -18.484832763671875,
          -1.357067346572876,
          -5.147274494171143,
          -13.695627212524414,
          -15.68375301361084,
          -4.41783332824707,
          -11.796491622924805,
          -8.003093719482422
         ],
         "xaxis": "x",
         "y": [
          -3.9825193881988525,
          7.889479637145996,
          1.034895658493042,
          -17.232078552246094,
          2.5469906330108643,
          -21.812938690185547,
          7.406231880187988,
          -22.669513702392578,
          1.6068286895751953,
          -19.659822463989258,
          -4.068459510803223
         ],
         "yaxis": "y"
        },
        {
         "hovertemplate": "Album=2004-2005 Demo CD<br>x=%{x}<br>y=%{y}<extra></extra>",
         "legendgroup": "2004-2005 Demo CD",
         "marker": {
          "color": "#FF6692",
          "symbol": "circle"
         },
         "mode": "markers",
         "name": "2004-2005 Demo CD",
         "orientation": "v",
         "showlegend": true,
         "type": "scatter",
         "x": [
          6.9416823387146,
          -10.612744331359863,
          -2.6272919178009033,
          -12.825272560119629,
          1.1835421323776245
         ],
         "xaxis": "x",
         "y": [
          -10.151833534240723,
          10.346110343933105,
          10.116202354431152,
          -13.029746055603027,
          23.946399688720703
         ],
         "yaxis": "y"
        },
        {
         "hovertemplate": "Album=Speak Now (Deluxe)<br>x=%{x}<br>y=%{y}<extra></extra>",
         "legendgroup": "Speak Now (Deluxe)",
         "marker": {
          "color": "#B6E880",
          "symbol": "circle"
         },
         "mode": "markers",
         "name": "Speak Now (Deluxe)",
         "orientation": "v",
         "showlegend": true,
         "type": "scatter",
         "x": [
          -11.720396041870117,
          -19.37957191467285,
          1.791235089302063
         ],
         "xaxis": "x",
         "y": [
          18.841764450073242,
          -5.265537261962891,
          -5.533026695251465
         ],
         "yaxis": "y"
        },
        {
         "hovertemplate": "Album=Spotify Singles<br>x=%{x}<br>y=%{y}<extra></extra>",
         "legendgroup": "Spotify Singles",
         "marker": {
          "color": "#FF97FF",
          "symbol": "circle"
         },
         "mode": "markers",
         "name": "Spotify Singles",
         "orientation": "v",
         "showlegend": true,
         "type": "scatter",
         "x": [
          11.608141899108887
         ],
         "xaxis": "x",
         "y": [
          1.5275717973709106
         ],
         "yaxis": "y"
        },
        {
         "hovertemplate": "Album=Stripped: Raw & Real<br>x=%{x}<br>y=%{y}<extra></extra>",
         "legendgroup": "Stripped: Raw & Real",
         "marker": {
          "color": "#FECB52",
          "symbol": "circle"
         },
         "mode": "markers",
         "name": "Stripped: Raw & Real",
         "orientation": "v",
         "showlegend": true,
         "type": "scatter",
         "x": [
          -2.249844789505005
         ],
         "xaxis": "x",
         "y": [
          22.701448440551758
         ],
         "yaxis": "y"
        },
        {
         "hovertemplate": "Album=Speak Now: World Tour Live (Deluxe)<br>x=%{x}<br>y=%{y}<extra></extra>",
         "legendgroup": "Speak Now: World Tour Live (Deluxe)",
         "marker": {
          "color": "#636efa",
          "symbol": "circle"
         },
         "mode": "markers",
         "name": "Speak Now: World Tour Live (Deluxe)",
         "orientation": "v",
         "showlegend": true,
         "type": "scatter",
         "x": [
          -8.50174617767334,
          11.830738067626953,
          11.01052188873291,
          0.23451676964759827,
          -9.913418769836426,
          -10.915939331054688,
          7.459229469299316,
          2.9274942874908447,
          -8.501350402832031,
          3.9636969566345215,
          -0.8227153420448303,
          -0.8397581577301025,
          -8.565592765808105,
          -7.655847549438477,
          -22.184465408325195,
          -11.721661567687988,
          -5.253668308258057
         ],
         "xaxis": "x",
         "y": [
          1.928160309791565,
          -0.1764191836118698,
          -8.191109657287598,
          27.613574981689453,
          -18.483381271362305,
          -6.9318695068359375,
          -14.1182222366333,
          11.567482948303223,
          9.816362380981445,
          -18.231128692626953,
          19.307334899902344,
          -1.768171787261963,
          -19.777132034301758,
          7.838902473449707,
          -22.42913055419922,
          18.841602325439453,
          -11.608531951904297
         ],
         "yaxis": "y"
        },
        {
         "hovertemplate": "Album=Fearless (Platinum Edition)<br>x=%{x}<br>y=%{y}<extra></extra>",
         "legendgroup": "Fearless (Platinum Edition)",
         "marker": {
          "color": "#EF553B",
          "symbol": "circle"
         },
         "mode": "markers",
         "name": "Fearless (Platinum Edition)",
         "orientation": "v",
         "showlegend": true,
         "type": "scatter",
         "x": [
          -8.94925308227539,
          -13.145416259765625,
          -16.355756759643555,
          -4.335083961486816,
          -11.399846076965332
         ],
         "xaxis": "x",
         "y": [
          -22.977046966552734,
          -6.4306793212890625,
          -8.467482566833496,
          -9.308016777038574,
          -3.125858783721924
         ],
         "yaxis": "y"
        },
        {
         "hovertemplate": "Album=Hannah Montana: The Movie<br>x=%{x}<br>y=%{y}<extra></extra>",
         "legendgroup": "Hannah Montana: The Movie",
         "marker": {
          "color": "#00cc96",
          "symbol": "circle"
         },
         "mode": "markers",
         "name": "Hannah Montana: The Movie",
         "orientation": "v",
         "showlegend": true,
         "type": "scatter",
         "x": [
          -2.4197282791137695
         ],
         "xaxis": "x",
         "y": [
          -20.272993087768555
         ],
         "yaxis": "y"
        },
        {
         "hovertemplate": "Album=One Chance (Original Motion Picture Soundtrack)<br>x=%{x}<br>y=%{y}<extra></extra>",
         "legendgroup": "One Chance (Original Motion Picture Soundtrack)",
         "marker": {
          "color": "#ab63fa",
          "symbol": "circle"
         },
         "mode": "markers",
         "name": "One Chance (Original Motion Picture Soundtrack)",
         "orientation": "v",
         "showlegend": true,
         "type": "scatter",
         "x": [
          -7.9855804443359375
         ],
         "xaxis": "x",
         "y": [
          11.738089561462402
         ],
         "yaxis": "y"
        },
        {
         "hovertemplate": "Album=The Taylor Swift Holiday Collection - EP<br>x=%{x}<br>y=%{y}<extra></extra>",
         "legendgroup": "The Taylor Swift Holiday Collection - EP",
         "marker": {
          "color": "#FFA15A",
          "symbol": "circle"
         },
         "mode": "markers",
         "name": "The Taylor Swift Holiday Collection - EP",
         "orientation": "v",
         "showlegend": true,
         "type": "scatter",
         "x": [
          -7.31365966796875,
          10.804399490356445,
          19.39727210998535,
          20.553686141967773,
          -10.130353927612305
         ],
         "xaxis": "x",
         "y": [
          -7.921460151672363,
          5.6452202796936035,
          14.528837203979492,
          7.09960412979126,
          0.08511631190776825
         ],
         "yaxis": "y"
        },
        {
         "hovertemplate": "Album=Unreleased Songs<br>x=%{x}<br>y=%{y}<extra></extra>",
         "legendgroup": "Unreleased Songs",
         "marker": {
          "color": "#19d3f3",
          "symbol": "circle"
         },
         "mode": "markers",
         "name": "Unreleased Songs",
         "orientation": "v",
         "showlegend": true,
         "type": "scatter",
         "x": [
          11.67027759552002,
          -1.8896492719650269,
          -5.632145404815674,
          -1.6156911849975586,
          7.682521343231201,
          5.267170429229736
         ],
         "xaxis": "x",
         "y": [
          -4.036987781524658,
          -26.659893035888672,
          -5.375495910644531,
          7.39013671875,
          5.260128974914551,
          22.183448791503906
         ],
         "yaxis": "y"
        },
        {
         "hovertemplate": "Album=2004 Demo CD<br>x=%{x}<br>y=%{y}<extra></extra>",
         "legendgroup": "2004 Demo CD",
         "marker": {
          "color": "#FF6692",
          "symbol": "circle"
         },
         "mode": "markers",
         "name": "2004 Demo CD",
         "orientation": "v",
         "showlegend": true,
         "type": "scatter",
         "x": [
          2.8265340328216553
         ],
         "xaxis": "x",
         "y": [
          -25.177845001220703
         ],
         "yaxis": "y"
        },
        {
         "hovertemplate": "Album=Taylor Swift <br>x=%{x}<br>y=%{y}<extra></extra>",
         "legendgroup": "Taylor Swift ",
         "marker": {
          "color": "#B6E880",
          "symbol": "circle"
         },
         "mode": "markers",
         "name": "Taylor Swift ",
         "orientation": "v",
         "showlegend": true,
         "type": "scatter",
         "x": [
          17.336305618286133,
          -0.18235301971435547,
          -16.072206497192383,
          -7.123720169067383,
          26.131343841552734,
          9.186105728149414,
          -5.959643363952637,
          23.508169174194336,
          -13.293237686157227,
          -3.7223029136657715,
          -6.7985148429870605,
          3.0515685081481934,
          -0.4310629665851593,
          26.131343841552734,
          -25.519760131835938,
          8.153882026672363
         ],
         "xaxis": "x",
         "y": [
          1.184117317199707,
          20.817432403564453,
          -3.3133292198181152,
          -25.611764907836914,
          13.948310852050781,
          20.716899871826172,
          -18.981719970703125,
          14.091283798217773,
          -9.74781322479248,
          -7.10063362121582,
          -29.507652282714844,
          18.369731903076172,
          20.677488327026367,
          13.948310852050781,
          -16.960418701171875,
          -6.352081298828125
         ],
         "yaxis": "y"
        },
        {
         "hovertemplate": "Album=Taylor Swift (Best Buy Exclusive) <br>x=%{x}<br>y=%{y}<extra></extra>",
         "legendgroup": "Taylor Swift (Best Buy Exclusive) ",
         "marker": {
          "color": "#FF97FF",
          "symbol": "circle"
         },
         "mode": "markers",
         "name": "Taylor Swift (Best Buy Exclusive) ",
         "orientation": "v",
         "showlegend": true,
         "type": "scatter",
         "x": [
          -9.629117965698242
         ],
         "xaxis": "x",
         "y": [
          -5.211137294769287
         ],
         "yaxis": "y"
        },
        {
         "hovertemplate": "Album=Valentine’s Day (Original Motion Picture Soundtrack)<br>x=%{x}<br>y=%{y}<extra></extra>",
         "legendgroup": "Valentine’s Day (Original Motion Picture Soundtrack)",
         "marker": {
          "color": "#FECB52",
          "symbol": "circle"
         },
         "mode": "markers",
         "name": "Valentine’s Day (Original Motion Picture Soundtrack)",
         "orientation": "v",
         "showlegend": true,
         "type": "scatter",
         "x": [
          -3.92004656791687
         ],
         "xaxis": "x",
         "y": [
          7.97835636138916
         ],
         "yaxis": "y"
        },
        {
         "hovertemplate": "Album=Speak Now: World Tour Live (Brazilian Edition)<br>x=%{x}<br>y=%{y}<extra></extra>",
         "legendgroup": "Speak Now: World Tour Live (Brazilian Edition)",
         "marker": {
          "color": "#636efa",
          "symbol": "circle"
         },
         "mode": "markers",
         "name": "Speak Now: World Tour Live (Brazilian Edition)",
         "orientation": "v",
         "showlegend": true,
         "type": "scatter",
         "x": [
          -17.52365493774414,
          14.1199312210083,
          19.124284744262695
         ],
         "xaxis": "x",
         "y": [
          -27.01133918762207,
          13.70694351196289,
          12.24366283416748
         ],
         "yaxis": "y"
        },
        {
         "hovertemplate": "Album=NOW That’s What I Call A Workout 2019<br>x=%{x}<br>y=%{y}<extra></extra>",
         "legendgroup": "NOW That’s What I Call A Workout 2019",
         "marker": {
          "color": "#EF553B",
          "symbol": "circle"
         },
         "mode": "markers",
         "name": "NOW That’s What I Call A Workout 2019",
         "orientation": "v",
         "showlegend": true,
         "type": "scatter",
         "x": [
          -5.15847110748291
         ],
         "xaxis": "x",
         "y": [
          10.193410873413086
         ],
         "yaxis": "y"
        },
        {
         "hovertemplate": "Album=2003 Demo CD<br>x=%{x}<br>y=%{y}<extra></extra>",
         "legendgroup": "2003 Demo CD",
         "marker": {
          "color": "#00cc96",
          "symbol": "circle"
         },
         "mode": "markers",
         "name": "2003 Demo CD",
         "orientation": "v",
         "showlegend": true,
         "type": "scatter",
         "x": [
          -13.435298919677734
         ],
         "xaxis": "x",
         "y": [
          11.892497062683105
         ],
         "yaxis": "y"
        },
        {
         "hovertemplate": "Album=Love Story [UK CD Single] <br>x=%{x}<br>y=%{y}<extra></extra>",
         "legendgroup": "Love Story [UK CD Single] ",
         "marker": {
          "color": "#ab63fa",
          "symbol": "circle"
         },
         "mode": "markers",
         "name": "Love Story [UK CD Single] ",
         "orientation": "v",
         "showlegend": true,
         "type": "scatter",
         "x": [
          -1.3786464929580688
         ],
         "xaxis": "x",
         "y": [
          -4.7995686531066895
         ],
         "yaxis": "y"
        },
        {
         "hovertemplate": "Album=Live from SoHo - EP<br>x=%{x}<br>y=%{y}<extra></extra>",
         "legendgroup": "Live from SoHo - EP",
         "marker": {
          "color": "#FFA15A",
          "symbol": "circle"
         },
         "mode": "markers",
         "name": "Live from SoHo - EP",
         "orientation": "v",
         "showlegend": true,
         "type": "scatter",
         "x": [
          -4.72185754776001,
          15.103995323181152,
          7.037611484527588,
          -1.3628714084625244,
          3.315152883529663,
          1.6285159587860107,
          -18.94778060913086,
          -7.291515827178955
         ],
         "xaxis": "x",
         "y": [
          1.7094968557357788,
          2.6056883335113525,
          -9.793679237365723,
          2.5356647968292236,
          7.871071815490723,
          1.0286672115325928,
          -17.802629470825195,
          -4.465409755706787
         ],
         "yaxis": "y"
        },
        {
         "hovertemplate": "Album=Hope for Haiti Now<br>x=%{x}<br>y=%{y}<extra></extra>",
         "legendgroup": "Hope for Haiti Now",
         "marker": {
          "color": "#19d3f3",
          "symbol": "circle"
         },
         "mode": "markers",
         "name": "Hope for Haiti Now",
         "orientation": "v",
         "showlegend": true,
         "type": "scatter",
         "x": [
          3.575176239013672
         ],
         "xaxis": "x",
         "y": [
          -12.233229637145996
         ],
         "yaxis": "y"
        },
        {
         "hovertemplate": "Album=Beautiful Eyes - EP<br>x=%{x}<br>y=%{y}<extra></extra>",
         "legendgroup": "Beautiful Eyes - EP",
         "marker": {
          "color": "#FF6692",
          "symbol": "circle"
         },
         "mode": "markers",
         "name": "Beautiful Eyes - EP",
         "orientation": "v",
         "showlegend": true,
         "type": "scatter",
         "x": [
          -19.257793426513672
         ],
         "xaxis": "x",
         "y": [
          -17.044288635253906
         ],
         "yaxis": "y"
        },
        {
         "hovertemplate": "Album=folklore: the long pond studio sessions (from the Disney+ special) [deluxe edition]<br>x=%{x}<br>y=%{y}<extra></extra>",
         "legendgroup": "folklore: the long pond studio sessions (from the Disney+ special) [deluxe edition]",
         "marker": {
          "color": "#B6E880",
          "symbol": "circle"
         },
         "mode": "markers",
         "name": "folklore: the long pond studio sessions (from the Disney+ special) [deluxe edition]",
         "orientation": "v",
         "showlegend": true,
         "type": "scatter",
         "x": [
          1.354980707168579,
          -5.610340118408203,
          -11.795539855957031,
          -11.929522514343262,
          9.049203872680664,
          -5.302489757537842,
          -10.179874420166016,
          -2.6211893558502197,
          11.972306251525879,
          6.123454570770264,
          9.234708786010742,
          6.162562370300293,
          9.65017318725586,
          -24.390729904174805,
          2.9405720233917236,
          9.195109367370605,
          -13.018182754516602
         ],
         "xaxis": "x",
         "y": [
          -10.567934036254883,
          -1.3405485153198242,
          0.7591375708580017,
          5.881324291229248,
          12.460562705993652,
          22.478227615356445,
          -9.863778114318848,
          -3.0317118167877197,
          6.206799507141113,
          5.846212863922119,
          23.130542755126953,
          11.997660636901855,
          8.897299766540527,
          -11.579286575317383,
          24.119722366333008,
          -17.387897491455078,
          10.482675552368164
         ],
         "yaxis": "y"
        },
        {
         "hovertemplate": "Album=Taylor Swift (Deluxe)<br>x=%{x}<br>y=%{y}<extra></extra>",
         "legendgroup": "Taylor Swift (Deluxe)",
         "marker": {
          "color": "#FF97FF",
          "symbol": "circle"
         },
         "mode": "markers",
         "name": "Taylor Swift (Deluxe)",
         "orientation": "v",
         "showlegend": true,
         "type": "scatter",
         "x": [
          7.803616523742676
         ],
         "xaxis": "x",
         "y": [
          -0.7833526730537415
         ],
         "yaxis": "y"
        },
        {
         "hovertemplate": "Album=willow (the witch collection)<br>x=%{x}<br>y=%{y}<extra></extra>",
         "legendgroup": "willow (the witch collection)",
         "marker": {
          "color": "#FECB52",
          "symbol": "circle"
         },
         "mode": "markers",
         "name": "willow (the witch collection)",
         "orientation": "v",
         "showlegend": true,
         "type": "scatter",
         "x": [
          -0.28586679697036743
         ],
         "xaxis": "x",
         "y": [
          -15.219959259033203
         ],
         "yaxis": "y"
        },
        {
         "hovertemplate": "Album=folklore: the yeah I showed up at your party chapter<br>x=%{x}<br>y=%{y}<extra></extra>",
         "legendgroup": "folklore: the yeah I showed up at your party chapter",
         "marker": {
          "color": "#636efa",
          "symbol": "circle"
         },
         "mode": "markers",
         "name": "folklore: the yeah I showed up at your party chapter",
         "orientation": "v",
         "showlegend": true,
         "type": "scatter",
         "x": [
          -10.501187324523926
         ],
         "xaxis": "x",
         "y": [
          -9.382282257080078
         ],
         "yaxis": "y"
        },
        {
         "hovertemplate": "Album=Live from Paris<br>x=%{x}<br>y=%{y}<extra></extra>",
         "legendgroup": "Live from Paris",
         "marker": {
          "color": "#EF553B",
          "symbol": "circle"
         },
         "mode": "markers",
         "name": "Live from Paris",
         "orientation": "v",
         "showlegend": true,
         "type": "scatter",
         "x": [
          6.657865524291992,
          -4.536637783050537,
          -1.9337633848190308,
          -17.476276397705078,
          -25.248722076416016,
          4.325436592102051,
          -20.50047492980957,
          -17.6328182220459
         ],
         "xaxis": "x",
         "y": [
          8.912035942077637,
          4.484402179718018,
          -11.968535423278809,
          16.576732635498047,
          -6.0937275886535645,
          -2.020463228225708,
          -0.5275818109512329,
          1.997787356376648
         ],
         "yaxis": "y"
        },
        {
         "hovertemplate": "Album=One World: Together At Home<br>x=%{x}<br>y=%{y}<extra></extra>",
         "legendgroup": "One World: Together At Home",
         "marker": {
          "color": "#00cc96",
          "symbol": "circle"
         },
         "mode": "markers",
         "name": "One World: Together At Home",
         "orientation": "v",
         "showlegend": true,
         "type": "scatter",
         "x": [
          -20.372882843017578
         ],
         "xaxis": "x",
         "y": [
          -12.093337059020996
         ],
         "yaxis": "y"
        },
        {
         "hovertemplate": "Album=Teardrops on My Guitar - EP<br>x=%{x}<br>y=%{y}<extra></extra>",
         "legendgroup": "Teardrops on My Guitar - EP",
         "marker": {
          "color": "#ab63fa",
          "symbol": "circle"
         },
         "mode": "markers",
         "name": "Teardrops on My Guitar - EP",
         "orientation": "v",
         "showlegend": true,
         "type": "scatter",
         "x": [
          -7.206754207611084,
          -6.9001874923706055
         ],
         "xaxis": "x",
         "y": [
          -3.8453357219696045,
          -3.070061445236206
         ],
         "yaxis": "y"
        },
        {
         "hovertemplate": "Album=Live From Clear Channel Stripped 2008 <br>x=%{x}<br>y=%{y}<extra></extra>",
         "legendgroup": "Live From Clear Channel Stripped 2008 ",
         "marker": {
          "color": "#FFA15A",
          "symbol": "circle"
         },
         "mode": "markers",
         "name": "Live From Clear Channel Stripped 2008 ",
         "orientation": "v",
         "showlegend": true,
         "type": "scatter",
         "x": [
          -0.8723658919334412,
          10.496530532836914,
          2.825939655303955,
          -2.24241042137146,
          -19.862079620361328,
          7.242705345153809,
          -18.6934871673584,
          -7.6287126541137695
         ],
         "xaxis": "x",
         "y": [
          -4.658334732055664,
          -9.174079895019531,
          -25.1778564453125,
          22.688261032104492,
          10.879104614257812,
          -10.132895469665527,
          -16.891639709472656,
          -3.343564510345459
         ],
         "yaxis": "y"
        },
        {
         "hovertemplate": "Album=Woman Walk The Line <br>x=%{x}<br>y=%{y}<extra></extra>",
         "legendgroup": "Woman Walk The Line ",
         "marker": {
          "color": "#19d3f3",
          "symbol": "circle"
         },
         "mode": "markers",
         "name": "Woman Walk The Line ",
         "orientation": "v",
         "showlegend": true,
         "type": "scatter",
         "x": [
          9.790163040161133
         ],
         "xaxis": "x",
         "y": [
          24.44515609741211
         ],
         "yaxis": "y"
        }
       ],
       "layout": {
        "legend": {
         "title": {
          "text": "Album"
         },
         "tracegroupgap": 0
        },
        "margin": {
         "t": 60
        },
        "template": {
         "data": {
          "bar": [
           {
            "error_x": {
             "color": "#2a3f5f"
            },
            "error_y": {
             "color": "#2a3f5f"
            },
            "marker": {
             "line": {
              "color": "#E5ECF6",
              "width": 0.5
             },
             "pattern": {
              "fillmode": "overlay",
              "size": 10,
              "solidity": 0.2
             }
            },
            "type": "bar"
           }
          ],
          "barpolar": [
           {
            "marker": {
             "line": {
              "color": "#E5ECF6",
              "width": 0.5
             },
             "pattern": {
              "fillmode": "overlay",
              "size": 10,
              "solidity": 0.2
             }
            },
            "type": "barpolar"
           }
          ],
          "carpet": [
           {
            "aaxis": {
             "endlinecolor": "#2a3f5f",
             "gridcolor": "white",
             "linecolor": "white",
             "minorgridcolor": "white",
             "startlinecolor": "#2a3f5f"
            },
            "baxis": {
             "endlinecolor": "#2a3f5f",
             "gridcolor": "white",
             "linecolor": "white",
             "minorgridcolor": "white",
             "startlinecolor": "#2a3f5f"
            },
            "type": "carpet"
           }
          ],
          "choropleth": [
           {
            "colorbar": {
             "outlinewidth": 0,
             "ticks": ""
            },
            "type": "choropleth"
           }
          ],
          "contour": [
           {
            "colorbar": {
             "outlinewidth": 0,
             "ticks": ""
            },
            "colorscale": [
             [
              0,
              "#0d0887"
             ],
             [
              0.1111111111111111,
              "#46039f"
             ],
             [
              0.2222222222222222,
              "#7201a8"
             ],
             [
              0.3333333333333333,
              "#9c179e"
             ],
             [
              0.4444444444444444,
              "#bd3786"
             ],
             [
              0.5555555555555556,
              "#d8576b"
             ],
             [
              0.6666666666666666,
              "#ed7953"
             ],
             [
              0.7777777777777778,
              "#fb9f3a"
             ],
             [
              0.8888888888888888,
              "#fdca26"
             ],
             [
              1,
              "#f0f921"
             ]
            ],
            "type": "contour"
           }
          ],
          "contourcarpet": [
           {
            "colorbar": {
             "outlinewidth": 0,
             "ticks": ""
            },
            "type": "contourcarpet"
           }
          ],
          "heatmap": [
           {
            "colorbar": {
             "outlinewidth": 0,
             "ticks": ""
            },
            "colorscale": [
             [
              0,
              "#0d0887"
             ],
             [
              0.1111111111111111,
              "#46039f"
             ],
             [
              0.2222222222222222,
              "#7201a8"
             ],
             [
              0.3333333333333333,
              "#9c179e"
             ],
             [
              0.4444444444444444,
              "#bd3786"
             ],
             [
              0.5555555555555556,
              "#d8576b"
             ],
             [
              0.6666666666666666,
              "#ed7953"
             ],
             [
              0.7777777777777778,
              "#fb9f3a"
             ],
             [
              0.8888888888888888,
              "#fdca26"
             ],
             [
              1,
              "#f0f921"
             ]
            ],
            "type": "heatmap"
           }
          ],
          "heatmapgl": [
           {
            "colorbar": {
             "outlinewidth": 0,
             "ticks": ""
            },
            "colorscale": [
             [
              0,
              "#0d0887"
             ],
             [
              0.1111111111111111,
              "#46039f"
             ],
             [
              0.2222222222222222,
              "#7201a8"
             ],
             [
              0.3333333333333333,
              "#9c179e"
             ],
             [
              0.4444444444444444,
              "#bd3786"
             ],
             [
              0.5555555555555556,
              "#d8576b"
             ],
             [
              0.6666666666666666,
              "#ed7953"
             ],
             [
              0.7777777777777778,
              "#fb9f3a"
             ],
             [
              0.8888888888888888,
              "#fdca26"
             ],
             [
              1,
              "#f0f921"
             ]
            ],
            "type": "heatmapgl"
           }
          ],
          "histogram": [
           {
            "marker": {
             "pattern": {
              "fillmode": "overlay",
              "size": 10,
              "solidity": 0.2
             }
            },
            "type": "histogram"
           }
          ],
          "histogram2d": [
           {
            "colorbar": {
             "outlinewidth": 0,
             "ticks": ""
            },
            "colorscale": [
             [
              0,
              "#0d0887"
             ],
             [
              0.1111111111111111,
              "#46039f"
             ],
             [
              0.2222222222222222,
              "#7201a8"
             ],
             [
              0.3333333333333333,
              "#9c179e"
             ],
             [
              0.4444444444444444,
              "#bd3786"
             ],
             [
              0.5555555555555556,
              "#d8576b"
             ],
             [
              0.6666666666666666,
              "#ed7953"
             ],
             [
              0.7777777777777778,
              "#fb9f3a"
             ],
             [
              0.8888888888888888,
              "#fdca26"
             ],
             [
              1,
              "#f0f921"
             ]
            ],
            "type": "histogram2d"
           }
          ],
          "histogram2dcontour": [
           {
            "colorbar": {
             "outlinewidth": 0,
             "ticks": ""
            },
            "colorscale": [
             [
              0,
              "#0d0887"
             ],
             [
              0.1111111111111111,
              "#46039f"
             ],
             [
              0.2222222222222222,
              "#7201a8"
             ],
             [
              0.3333333333333333,
              "#9c179e"
             ],
             [
              0.4444444444444444,
              "#bd3786"
             ],
             [
              0.5555555555555556,
              "#d8576b"
             ],
             [
              0.6666666666666666,
              "#ed7953"
             ],
             [
              0.7777777777777778,
              "#fb9f3a"
             ],
             [
              0.8888888888888888,
              "#fdca26"
             ],
             [
              1,
              "#f0f921"
             ]
            ],
            "type": "histogram2dcontour"
           }
          ],
          "mesh3d": [
           {
            "colorbar": {
             "outlinewidth": 0,
             "ticks": ""
            },
            "type": "mesh3d"
           }
          ],
          "parcoords": [
           {
            "line": {
             "colorbar": {
              "outlinewidth": 0,
              "ticks": ""
             }
            },
            "type": "parcoords"
           }
          ],
          "pie": [
           {
            "automargin": true,
            "type": "pie"
           }
          ],
          "scatter": [
           {
            "fillpattern": {
             "fillmode": "overlay",
             "size": 10,
             "solidity": 0.2
            },
            "type": "scatter"
           }
          ],
          "scatter3d": [
           {
            "line": {
             "colorbar": {
              "outlinewidth": 0,
              "ticks": ""
             }
            },
            "marker": {
             "colorbar": {
              "outlinewidth": 0,
              "ticks": ""
             }
            },
            "type": "scatter3d"
           }
          ],
          "scattercarpet": [
           {
            "marker": {
             "colorbar": {
              "outlinewidth": 0,
              "ticks": ""
             }
            },
            "type": "scattercarpet"
           }
          ],
          "scattergeo": [
           {
            "marker": {
             "colorbar": {
              "outlinewidth": 0,
              "ticks": ""
             }
            },
            "type": "scattergeo"
           }
          ],
          "scattergl": [
           {
            "marker": {
             "colorbar": {
              "outlinewidth": 0,
              "ticks": ""
             }
            },
            "type": "scattergl"
           }
          ],
          "scattermapbox": [
           {
            "marker": {
             "colorbar": {
              "outlinewidth": 0,
              "ticks": ""
             }
            },
            "type": "scattermapbox"
           }
          ],
          "scatterpolar": [
           {
            "marker": {
             "colorbar": {
              "outlinewidth": 0,
              "ticks": ""
             }
            },
            "type": "scatterpolar"
           }
          ],
          "scatterpolargl": [
           {
            "marker": {
             "colorbar": {
              "outlinewidth": 0,
              "ticks": ""
             }
            },
            "type": "scatterpolargl"
           }
          ],
          "scatterternary": [
           {
            "marker": {
             "colorbar": {
              "outlinewidth": 0,
              "ticks": ""
             }
            },
            "type": "scatterternary"
           }
          ],
          "surface": [
           {
            "colorbar": {
             "outlinewidth": 0,
             "ticks": ""
            },
            "colorscale": [
             [
              0,
              "#0d0887"
             ],
             [
              0.1111111111111111,
              "#46039f"
             ],
             [
              0.2222222222222222,
              "#7201a8"
             ],
             [
              0.3333333333333333,
              "#9c179e"
             ],
             [
              0.4444444444444444,
              "#bd3786"
             ],
             [
              0.5555555555555556,
              "#d8576b"
             ],
             [
              0.6666666666666666,
              "#ed7953"
             ],
             [
              0.7777777777777778,
              "#fb9f3a"
             ],
             [
              0.8888888888888888,
              "#fdca26"
             ],
             [
              1,
              "#f0f921"
             ]
            ],
            "type": "surface"
           }
          ],
          "table": [
           {
            "cells": {
             "fill": {
              "color": "#EBF0F8"
             },
             "line": {
              "color": "white"
             }
            },
            "header": {
             "fill": {
              "color": "#C8D4E3"
             },
             "line": {
              "color": "white"
             }
            },
            "type": "table"
           }
          ]
         },
         "layout": {
          "annotationdefaults": {
           "arrowcolor": "#2a3f5f",
           "arrowhead": 0,
           "arrowwidth": 1
          },
          "autotypenumbers": "strict",
          "coloraxis": {
           "colorbar": {
            "outlinewidth": 0,
            "ticks": ""
           }
          },
          "colorscale": {
           "diverging": [
            [
             0,
             "#8e0152"
            ],
            [
             0.1,
             "#c51b7d"
            ],
            [
             0.2,
             "#de77ae"
            ],
            [
             0.3,
             "#f1b6da"
            ],
            [
             0.4,
             "#fde0ef"
            ],
            [
             0.5,
             "#f7f7f7"
            ],
            [
             0.6,
             "#e6f5d0"
            ],
            [
             0.7,
             "#b8e186"
            ],
            [
             0.8,
             "#7fbc41"
            ],
            [
             0.9,
             "#4d9221"
            ],
            [
             1,
             "#276419"
            ]
           ],
           "sequential": [
            [
             0,
             "#0d0887"
            ],
            [
             0.1111111111111111,
             "#46039f"
            ],
            [
             0.2222222222222222,
             "#7201a8"
            ],
            [
             0.3333333333333333,
             "#9c179e"
            ],
            [
             0.4444444444444444,
             "#bd3786"
            ],
            [
             0.5555555555555556,
             "#d8576b"
            ],
            [
             0.6666666666666666,
             "#ed7953"
            ],
            [
             0.7777777777777778,
             "#fb9f3a"
            ],
            [
             0.8888888888888888,
             "#fdca26"
            ],
            [
             1,
             "#f0f921"
            ]
           ],
           "sequentialminus": [
            [
             0,
             "#0d0887"
            ],
            [
             0.1111111111111111,
             "#46039f"
            ],
            [
             0.2222222222222222,
             "#7201a8"
            ],
            [
             0.3333333333333333,
             "#9c179e"
            ],
            [
             0.4444444444444444,
             "#bd3786"
            ],
            [
             0.5555555555555556,
             "#d8576b"
            ],
            [
             0.6666666666666666,
             "#ed7953"
            ],
            [
             0.7777777777777778,
             "#fb9f3a"
            ],
            [
             0.8888888888888888,
             "#fdca26"
            ],
            [
             1,
             "#f0f921"
            ]
           ]
          },
          "colorway": [
           "#636efa",
           "#EF553B",
           "#00cc96",
           "#ab63fa",
           "#FFA15A",
           "#19d3f3",
           "#FF6692",
           "#B6E880",
           "#FF97FF",
           "#FECB52"
          ],
          "font": {
           "color": "#2a3f5f"
          },
          "geo": {
           "bgcolor": "white",
           "lakecolor": "white",
           "landcolor": "#E5ECF6",
           "showlakes": true,
           "showland": true,
           "subunitcolor": "white"
          },
          "hoverlabel": {
           "align": "left"
          },
          "hovermode": "closest",
          "mapbox": {
           "style": "light"
          },
          "paper_bgcolor": "white",
          "plot_bgcolor": "#E5ECF6",
          "polar": {
           "angularaxis": {
            "gridcolor": "white",
            "linecolor": "white",
            "ticks": ""
           },
           "bgcolor": "#E5ECF6",
           "radialaxis": {
            "gridcolor": "white",
            "linecolor": "white",
            "ticks": ""
           }
          },
          "scene": {
           "xaxis": {
            "backgroundcolor": "#E5ECF6",
            "gridcolor": "white",
            "gridwidth": 2,
            "linecolor": "white",
            "showbackground": true,
            "ticks": "",
            "zerolinecolor": "white"
           },
           "yaxis": {
            "backgroundcolor": "#E5ECF6",
            "gridcolor": "white",
            "gridwidth": 2,
            "linecolor": "white",
            "showbackground": true,
            "ticks": "",
            "zerolinecolor": "white"
           },
           "zaxis": {
            "backgroundcolor": "#E5ECF6",
            "gridcolor": "white",
            "gridwidth": 2,
            "linecolor": "white",
            "showbackground": true,
            "ticks": "",
            "zerolinecolor": "white"
           }
          },
          "shapedefaults": {
           "line": {
            "color": "#2a3f5f"
           }
          },
          "ternary": {
           "aaxis": {
            "gridcolor": "white",
            "linecolor": "white",
            "ticks": ""
           },
           "baxis": {
            "gridcolor": "white",
            "linecolor": "white",
            "ticks": ""
           },
           "bgcolor": "#E5ECF6",
           "caxis": {
            "gridcolor": "white",
            "linecolor": "white",
            "ticks": ""
           }
          },
          "title": {
           "x": 0.05
          },
          "xaxis": {
           "automargin": true,
           "gridcolor": "white",
           "linecolor": "white",
           "ticks": "",
           "title": {
            "standoff": 15
           },
           "zerolinecolor": "white",
           "zerolinewidth": 2
          },
          "yaxis": {
           "automargin": true,
           "gridcolor": "white",
           "linecolor": "white",
           "ticks": "",
           "title": {
            "standoff": 15
           },
           "zerolinecolor": "white",
           "zerolinewidth": 2
          }
         }
        },
        "xaxis": {
         "anchor": "y",
         "domain": [
          0,
          1
         ],
         "title": {
          "text": "x"
         }
        },
        "yaxis": {
         "anchor": "x",
         "domain": [
          0,
          1
         ],
         "title": {
          "text": "y"
         }
        }
       }
      }
     },
     "metadata": {},
     "output_type": "display_data"
    }
   ],
   "source": [
    "hero.scatterplot(\n",
    "    df, \n",
    "    col='tsne', \n",
    "    color='Album', \n",
    "    title=\"\"\n",
    ")"
   ]
  },
  {
   "cell_type": "code",
   "execution_count": 18,
   "metadata": {},
   "outputs": [
    {
     "name": "stderr",
     "output_type": "stream",
     "text": [
      "/Users/max/.pyenv/versions/3.7.11/lib/python3.7/site-packages/ipykernel_launcher.py:1: SettingWithCopyWarning:\n",
      "\n",
      "\n",
      "A value is trying to be set on a copy of a slice from a DataFrame.\n",
      "Try using .loc[row_indexer,col_indexer] = value instead\n",
      "\n",
      "See the caveats in the documentation: https://pandas.pydata.org/pandas-docs/stable/user_guide/indexing.html#returning-a-view-versus-a-copy\n",
      "\n",
      "/Users/max/.pyenv/versions/3.7.11/lib/python3.7/site-packages/ipykernel_launcher.py:2: SettingWithCopyWarning:\n",
      "\n",
      "\n",
      "A value is trying to be set on a copy of a slice from a DataFrame.\n",
      "Try using .loc[row_indexer,col_indexer] = value instead\n",
      "\n",
      "See the caveats in the documentation: https://pandas.pydata.org/pandas-docs/stable/user_guide/indexing.html#returning-a-view-versus-a-copy\n",
      "\n",
      "/Users/max/.pyenv/versions/3.7.11/lib/python3.7/site-packages/ipykernel_launcher.py:3: SettingWithCopyWarning:\n",
      "\n",
      "\n",
      "A value is trying to be set on a copy of a slice from a DataFrame.\n",
      "Try using .loc[row_indexer,col_indexer] = value instead\n",
      "\n",
      "See the caveats in the documentation: https://pandas.pydata.org/pandas-docs/stable/user_guide/indexing.html#returning-a-view-versus-a-copy\n",
      "\n"
     ]
    },
    {
     "data": {
      "application/vnd.plotly.v1+json": {
       "config": {
        "plotlyServerURL": "https://plot.ly"
       },
       "data": [
        {
         "hovertemplate": "Album=folklore<br>x=%{x}<br>y=%{y}<extra></extra>",
         "legendgroup": "folklore",
         "marker": {
          "color": "#636efa",
          "symbol": "circle"
         },
         "mode": "markers",
         "name": "folklore",
         "orientation": "v",
         "showlegend": true,
         "type": "scatter",
         "x": [
          3.0627715587615967,
          -8.466592788696289,
          8.317630767822266,
          -4.343966960906982,
          17.422941207885742,
          4.577865123748779,
          8.98973274230957,
          15.622920036315918,
          3.4533534049987793,
          -0.5170831084251404,
          0.40246525406837463,
          -2.1154661178588867,
          15.07596206665039,
          -17.41069793701172,
          -18.168325424194336,
          6.516383647918701
         ],
         "xaxis": "x",
         "y": [
          5.995532989501953,
          11.809929847717285,
          -8.714141845703125,
          -2.461596727371216,
          3.1840596199035645,
          -3.5842905044555664,
          18.01606559753418,
          11.473957061767578,
          8.930936813354492,
          -13.030403137207031,
          6.929479598999023,
          9.724130630493164,
          16.552898406982422,
          15.752851486206055,
          -15.784370422363281,
          -24.895750045776367
         ],
         "yaxis": "y"
        },
        {
         "hovertemplate": "Album=Lover<br>x=%{x}<br>y=%{y}<extra></extra>",
         "legendgroup": "Lover",
         "marker": {
          "color": "#EF553B",
          "symbol": "circle"
         },
         "mode": "markers",
         "name": "Lover",
         "orientation": "v",
         "showlegend": true,
         "type": "scatter",
         "x": [
          -10.130874633789062,
          -15.442108154296875,
          -20.781604766845703,
          1.860662817955017,
          3.896733522415161,
          -11.061247825622559,
          -0.32864686846733093,
          -8.36836051940918,
          9.978240013122559,
          -21.87035369873047,
          9.963033676147461,
          6.155782699584961,
          -3.1337175369262695,
          -5.659848690032959,
          -1.1569005250930786,
          -7.970769882202148,
          20.489707946777344,
          3.6741771697998047
         ],
         "xaxis": "x",
         "y": [
          -15.163857460021973,
          -7.803573131561279,
          -0.05806965380907059,
          -7.204103946685791,
          23.032970428466797,
          17.361135482788086,
          -3.3376474380493164,
          -4.851259231567383,
          23.929386138916016,
          -10.227855682373047,
          9.0733003616333,
          -0.9809353947639465,
          -9.57716178894043,
          9.530208587646484,
          16.933393478393555,
          -6.263851642608643,
          13.817703247070312,
          -18.619266510009766
         ],
         "yaxis": "y"
        },
        {
         "hovertemplate": "Album=reputation<br>x=%{x}<br>y=%{y}<extra></extra>",
         "legendgroup": "reputation",
         "marker": {
          "color": "#00cc96",
          "symbol": "circle"
         },
         "mode": "markers",
         "name": "reputation",
         "orientation": "v",
         "showlegend": true,
         "type": "scatter",
         "x": [
          -6.33181095123291,
          -9.854094505310059,
          6.702763080596924,
          6.225753307342529,
          -0.9919375777244568,
          -6.77800178527832,
          -11.37592601776123,
          -6.657975673675537,
          8.340954780578613,
          17.030529022216797,
          2.1134700775146484,
          12.871054649353027,
          -13.495697975158691,
          2.0745630264282227,
          11.678024291992188,
          -18.986881256103516,
          12.931183815002441,
          -4.5319695472717285
         ],
         "xaxis": "x",
         "y": [
          -7.586783409118652,
          -7.500205039978027,
          7.349839687347412,
          -0.9715295433998108,
          -10.762478828430176,
          -3.118100643157959,
          -17.079910278320312,
          20.43885612487793,
          -15.578873634338379,
          6.765816688537598,
          -8.067736625671387,
          6.398255825042725,
          4.948706150054932,
          -19.04172134399414,
          -11.134842872619629,
          -4.816642761230469,
          0.5540897846221924,
          -0.7175458669662476
         ],
         "yaxis": "y"
        },
        {
         "hovertemplate": "Album=1989<br>x=%{x}<br>y=%{y}<extra></extra>",
         "legendgroup": "1989",
         "marker": {
          "color": "#ab63fa",
          "symbol": "circle"
         },
         "mode": "markers",
         "name": "1989",
         "orientation": "v",
         "showlegend": true,
         "type": "scatter",
         "x": [
          2.856663465499878,
          -0.195590078830719,
          -11.473748207092285,
          18.947647094726562,
          -19.683040618896484,
          3.3614444732666016,
          16.3568058013916,
          -21.791976928710938,
          5.192770481109619,
          -4.261961460113525,
          -12.105775833129883,
          -2.6075987815856934,
          -17.932756423950195
         ],
         "xaxis": "x",
         "y": [
          -10.934951782226562,
          -5.9534077644348145,
          -22.96702003479004,
          -11.141704559326172,
          1.3755629062652588,
          -13.97378921508789,
          -5.4645161628723145,
          1.3482730388641357,
          4.5522685050964355,
          -22.197872161865234,
          0.4813549220561981,
          2.2632861137390137,
          3.1722142696380615
         ],
         "yaxis": "y"
        },
        {
         "hovertemplate": "Album=evermore<br>x=%{x}<br>y=%{y}<extra></extra>",
         "legendgroup": "evermore",
         "marker": {
          "color": "#FFA15A",
          "symbol": "circle"
         },
         "mode": "markers",
         "name": "evermore",
         "orientation": "v",
         "showlegend": true,
         "type": "scatter",
         "x": [
          -21.100038528442383,
          0.4393928050994873,
          -8.595507621765137,
          2.5407092571258545,
          -5.044490814208984,
          -0.6414409279823303,
          -1.7865833044052124,
          -0.09353490173816681,
          -4.049805164337158,
          -13.236971855163574,
          4.8098063468933105,
          3.750439167022705,
          9.333083152770996,
          -3.9566738605499268,
          -4.626275539398193
         ],
         "xaxis": "x",
         "y": [
          7.631803512573242,
          3.8481738567352295,
          13.383830070495605,
          3.5870420932769775,
          16.235624313354492,
          19.6956787109375,
          -1.5599076747894287,
          -9.254725456237793,
          1.0842839479446411,
          -12.02522087097168,
          -18.197776794433594,
          2.2699246406555176,
          1.8290596008300781,
          -24.547569274902344,
          -6.919215679168701
         ],
         "yaxis": "y"
        },
        {
         "hovertemplate": "Album=Now That’s What I Call Music! 56 [US]<br>x=%{x}<br>y=%{y}<extra></extra>",
         "legendgroup": "Now That’s What I Call Music! 56 [US]",
         "marker": {
          "color": "#19d3f3",
          "symbol": "circle"
         },
         "mode": "markers",
         "name": "Now That’s What I Call Music! 56 [US]",
         "orientation": "v",
         "showlegend": true,
         "type": "scatter",
         "x": [
          -12.001404762268066
         ],
         "xaxis": "x",
         "y": [
          -22.41238021850586
         ],
         "yaxis": "y"
        },
        {
         "hovertemplate": "Album=Fearless<br>x=%{x}<br>y=%{y}<extra></extra>",
         "legendgroup": "Fearless",
         "marker": {
          "color": "#FF6692",
          "symbol": "circle"
         },
         "mode": "markers",
         "name": "Fearless",
         "orientation": "v",
         "showlegend": true,
         "type": "scatter",
         "x": [
          1.782667875289917,
          -1.6434597969055176,
          -15.889941215515137,
          9.488014221191406,
          -3.91343355178833,
          -14.312042236328125,
          -5.501619815826416,
          1.6359790563583374,
          -0.33963701128959656,
          -8.747846603393555,
          -8.01464557647705,
          20.168195724487305,
          -4.261475563049316
         ],
         "xaxis": "x",
         "y": [
          -5.01952600479126,
          -5.148849964141846,
          -2.1804542541503906,
          -13.839995384216309,
          6.281434535980225,
          -10.424537658691406,
          2.9857406616210938,
          1.8610297441482544,
          -0.7473695874214172,
          -2.132741689682007,
          4.224911689758301,
          -2.488518476486206,
          -5.39871072769165
         ],
         "yaxis": "y"
        },
        {
         "hovertemplate": "Album=Red (Deluxe Edition)<br>x=%{x}<br>y=%{y}<extra></extra>",
         "legendgroup": "Red (Deluxe Edition)",
         "marker": {
          "color": "#B6E880",
          "symbol": "circle"
         },
         "mode": "markers",
         "name": "Red (Deluxe Edition)",
         "orientation": "v",
         "showlegend": true,
         "type": "scatter",
         "x": [
          2.483555793762207,
          4.955832481384277,
          0.3038323223590851,
          11.926812171936035,
          -11.543846130371094,
          15.50035572052002,
          -1.17388117313385,
          0.8844195008277893,
          10.781486511230469,
          -23.45423698425293,
          3.778224229812622,
          -9.058469772338867,
          10.937727928161621,
          7.056268215179443,
          -2.3127312660217285,
          13.209360122680664,
          -11.070948600769043,
          -4.936927318572998,
          -1.1749204397201538,
          -0.8116568326950073,
          15.499998092651367,
          -23.444162368774414
         ],
         "xaxis": "x",
         "y": [
          -0.0907604992389679,
          -14.10751724243164,
          -19.12458610534668,
          -8.649934768676758,
          -9.390965461730957,
          -2.0417139530181885,
          24.970888137817383,
          0.4211895167827606,
          -11.453451156616211,
          12.95125961303711,
          0.40427544713020325,
          6.48962926864624,
          -19.581703186035156,
          -3.094515562057495,
          -0.03158191218972206,
          -10.303492546081543,
          -1.2088326215744019,
          -23.28489112854004,
          24.970552444458008,
          18.611595153808594,
          -2.0580244064331055,
          12.945836067199707
         ],
         "yaxis": "y"
        },
        {
         "hovertemplate": "Album=folklore (deluxe version)<br>x=%{x}<br>y=%{y}<extra></extra>",
         "legendgroup": "folklore (deluxe version)",
         "marker": {
          "color": "#FF97FF",
          "symbol": "circle"
         },
         "mode": "markers",
         "name": "folklore (deluxe version)",
         "orientation": "v",
         "showlegend": true,
         "type": "scatter",
         "x": [
          26.370676040649414,
          15.00366497039795
         ],
         "xaxis": "x",
         "y": [
          0.3491975665092468,
          1.0923707485198975
         ],
         "yaxis": "y"
        },
        {
         "hovertemplate": "Album=evermore (Japanese Edition)<br>x=%{x}<br>y=%{y}<extra></extra>",
         "legendgroup": "evermore (Japanese Edition)",
         "marker": {
          "color": "#FECB52",
          "symbol": "circle"
         },
         "mode": "markers",
         "name": "evermore (Japanese Edition)",
         "orientation": "v",
         "showlegend": true,
         "type": "scatter",
         "x": [
          -7.826135635375977,
          -6.027462482452393,
          -20.344886779785156,
          -20.862709045410156
         ],
         "xaxis": "x",
         "y": [
          2.407329559326172,
          -1.3621388673782349,
          8.033047676086426,
          8.698323249816895
         ],
         "yaxis": "y"
        },
        {
         "hovertemplate": "Album=1989 (Deluxe)<br>x=%{x}<br>y=%{y}<extra></extra>",
         "legendgroup": "1989 (Deluxe)",
         "marker": {
          "color": "#636efa",
          "symbol": "circle"
         },
         "mode": "markers",
         "name": "1989 (Deluxe)",
         "orientation": "v",
         "showlegend": true,
         "type": "scatter",
         "x": [
          17.356203079223633,
          4.601891040802002,
          3.540356159210205,
          5.173628807067871,
          3.0837690830230713,
          -2.437837600708008
         ],
         "xaxis": "x",
         "y": [
          -10.180588722229004,
          -6.527552604675293,
          -1.456016182899475,
          4.275908470153809,
          -10.832273483276367,
          2.294224500656128
         ],
         "yaxis": "y"
        },
        {
         "hovertemplate": "Album=NOW That’s What I Call Music! 73 [US]<br>x=%{x}<br>y=%{y}<extra></extra>",
         "legendgroup": "NOW That’s What I Call Music! 73 [US]",
         "marker": {
          "color": "#EF553B",
          "symbol": "circle"
         },
         "mode": "markers",
         "name": "NOW That’s What I Call Music! 73 [US]",
         "orientation": "v",
         "showlegend": true,
         "type": "scatter",
         "x": [
          -11.140067100524902
         ],
         "xaxis": "x",
         "y": [
          -14.256367683410645
         ],
         "yaxis": "y"
        },
        {
         "hovertemplate": "Album=Speak Now<br>x=%{x}<br>y=%{y}<extra></extra>",
         "legendgroup": "Speak Now",
         "marker": {
          "color": "#00cc96",
          "symbol": "circle"
         },
         "mode": "markers",
         "name": "Speak Now",
         "orientation": "v",
         "showlegend": true,
         "type": "scatter",
         "x": [
          -1.8766709566116333,
          7.149649143218994,
          -0.1761377453804016,
          5.01359224319458,
          -5.596786022186279,
          12.249415397644043,
          -2.535633087158203,
          9.9805269241333,
          6.549984931945801,
          -6.682231903076172,
          8.797430038452148,
          -7.766479969024658,
          8.696950912475586,
          -2.6551554203033447
         ],
         "xaxis": "x",
         "y": [
          4.975274562835693,
          -5.775755882263184,
          2.4183108806610107,
          -8.265037536621094,
          5.609645843505859,
          2.405735969543457,
          -16.319440841674805,
          13.61186408996582,
          10.926985740661621,
          7.393090724945068,
          0.01740885153412819,
          -10.157357215881348,
          4.651138782501221,
          -19.695899963378906
         ],
         "yaxis": "y"
        },
        {
         "hovertemplate": "Album=The Hunger Games: Songs from District 12 and Beyond<br>x=%{x}<br>y=%{y}<extra></extra>",
         "legendgroup": "The Hunger Games: Songs from District 12 and Beyond",
         "marker": {
          "color": "#ab63fa",
          "symbol": "circle"
         },
         "mode": "markers",
         "name": "The Hunger Games: Songs from District 12 and Beyond",
         "orientation": "v",
         "showlegend": true,
         "type": "scatter",
         "x": [
          -13.785247802734375,
          1.8960795402526855
         ],
         "xaxis": "x",
         "y": [
          -13.162786483764648,
          -2.3928146362304688
         ],
         "yaxis": "y"
        },
        {
         "hovertemplate": "Album=Cats: Highlights From the Motion Picture Soundtrack<br>x=%{x}<br>y=%{y}<extra></extra>",
         "legendgroup": "Cats: Highlights From the Motion Picture Soundtrack",
         "marker": {
          "color": "#FFA15A",
          "symbol": "circle"
         },
         "mode": "markers",
         "name": "Cats: Highlights From the Motion Picture Soundtrack",
         "orientation": "v",
         "showlegend": true,
         "type": "scatter",
         "x": [
          0.6163208484649658,
          -3.7894539833068848
         ],
         "xaxis": "x",
         "y": [
          8.27068042755127,
          13.624641418457031
         ],
         "yaxis": "y"
        },
        {
         "hovertemplate": "Album=Taylor Swift<br>x=%{x}<br>y=%{y}<extra></extra>",
         "legendgroup": "Taylor Swift",
         "marker": {
          "color": "#19d3f3",
          "symbol": "circle"
         },
         "mode": "markers",
         "name": "Taylor Swift",
         "orientation": "v",
         "showlegend": true,
         "type": "scatter",
         "x": [
          -0.9956461191177368,
          2.803469657897949,
          4.865487575531006,
          -4.383176326751709,
          6.271631717681885,
          -11.341767311096191,
          -13.770120620727539,
          -2.875549554824829,
          -14.933792114257812,
          -10.991307258605957,
          -1.6504473686218262
         ],
         "xaxis": "x",
         "y": [
          13.950044631958008,
          12.01060962677002,
          15.29030704498291,
          -12.743492126464844,
          1.8684431314468384,
          8.57865047454834,
          -4.531454086303711,
          -4.317297458648682,
          3.936448812484741,
          -6.55703592300415,
          13.30244255065918
         ],
         "yaxis": "y"
        },
        {
         "hovertemplate": "Album=2004-2005 Demo CD<br>x=%{x}<br>y=%{y}<extra></extra>",
         "legendgroup": "2004-2005 Demo CD",
         "marker": {
          "color": "#FF6692",
          "symbol": "circle"
         },
         "mode": "markers",
         "name": "2004-2005 Demo CD",
         "orientation": "v",
         "showlegend": true,
         "type": "scatter",
         "x": [
          -26.537044525146484,
          -3.3176465034484863,
          -9.097936630249023,
          -6.191805839538574,
          -12.751136779785156
         ],
         "xaxis": "x",
         "y": [
          -4.717479228973389,
          -6.167003631591797,
          4.210785388946533,
          -5.346418857574463,
          -1.6001724004745483
         ],
         "yaxis": "y"
        },
        {
         "hovertemplate": "Album=Speak Now (Deluxe)<br>x=%{x}<br>y=%{y}<extra></extra>",
         "legendgroup": "Speak Now (Deluxe)",
         "marker": {
          "color": "#B6E880",
          "symbol": "circle"
         },
         "mode": "markers",
         "name": "Speak Now (Deluxe)",
         "orientation": "v",
         "showlegend": true,
         "type": "scatter",
         "x": [
          15.889233589172363,
          -10.625940322875977,
          -15.681142807006836
         ],
         "xaxis": "x",
         "y": [
          -16.77869987487793,
          -1.1277620792388916,
          -2.141432762145996
         ],
         "yaxis": "y"
        },
        {
         "hovertemplate": "Album=Spotify Singles<br>x=%{x}<br>y=%{y}<extra></extra>",
         "legendgroup": "Spotify Singles",
         "marker": {
          "color": "#FF97FF",
          "symbol": "circle"
         },
         "mode": "markers",
         "name": "Spotify Singles",
         "orientation": "v",
         "showlegend": true,
         "type": "scatter",
         "x": [
          13.054625511169434
         ],
         "xaxis": "x",
         "y": [
          -3.9624781608581543
         ],
         "yaxis": "y"
        },
        {
         "hovertemplate": "Album=Stripped: Raw & Real<br>x=%{x}<br>y=%{y}<extra></extra>",
         "legendgroup": "Stripped: Raw & Real",
         "marker": {
          "color": "#FECB52",
          "symbol": "circle"
         },
         "mode": "markers",
         "name": "Stripped: Raw & Real",
         "orientation": "v",
         "showlegend": true,
         "type": "scatter",
         "x": [
          -15.632298469543457
         ],
         "xaxis": "x",
         "y": [
          8.258411407470703
         ],
         "yaxis": "y"
        },
        {
         "hovertemplate": "Album=Speak Now: World Tour Live (Deluxe)<br>x=%{x}<br>y=%{y}<extra></extra>",
         "legendgroup": "Speak Now: World Tour Live (Deluxe)",
         "marker": {
          "color": "#636efa",
          "symbol": "circle"
         },
         "mode": "markers",
         "name": "Speak Now: World Tour Live (Deluxe)",
         "orientation": "v",
         "showlegend": true,
         "type": "scatter",
         "x": [
          -5.6233978271484375,
          -11.301758766174316,
          10.364510536193848,
          -11.921299934387207,
          -9.72396183013916,
          9.973050117492676,
          6.5680155754089355,
          8.702186584472656,
          8.784624099731445,
          7.151837348937988,
          12.228681564331055,
          -1.8110442161560059,
          -2.5369341373443604,
          4.9918928146362305,
          -7.758342742919922,
          15.888704299926758,
          -0.20661821961402893
         ],
         "xaxis": "x",
         "y": [
          5.753290176391602,
          8.786519050598145,
          -14.459965705871582,
          3.074120044708252,
          0.6398832201957703,
          13.603851318359375,
          10.931509971618652,
          4.6545562744140625,
          0.0377681702375412,
          -5.773361682891846,
          2.213797092437744,
          4.924165725708008,
          -16.31139373779297,
          -8.194259643554688,
          -10.160865783691406,
          -16.780298233032227,
          2.3709001541137695
         ],
         "yaxis": "y"
        },
        {
         "hovertemplate": "Album=Fearless (Platinum Edition)<br>x=%{x}<br>y=%{y}<extra></extra>",
         "legendgroup": "Fearless (Platinum Edition)",
         "marker": {
          "color": "#EF553B",
          "symbol": "circle"
         },
         "mode": "markers",
         "name": "Fearless (Platinum Edition)",
         "orientation": "v",
         "showlegend": true,
         "type": "scatter",
         "x": [
          -1.782824158668518,
          -0.11813894659280777,
          0.8599168658256531,
          -2.264340877532959,
          -5.507351398468018
         ],
         "xaxis": "x",
         "y": [
          -7.341636657714844,
          -1.2341938018798828,
          -1.8170793056488037,
          -3.4660568237304688,
          2.984621286392212
         ],
         "yaxis": "y"
        },
        {
         "hovertemplate": "Album=Hannah Montana: The Movie<br>x=%{x}<br>y=%{y}<extra></extra>",
         "legendgroup": "Hannah Montana: The Movie",
         "marker": {
          "color": "#00cc96",
          "symbol": "circle"
         },
         "mode": "markers",
         "name": "Hannah Montana: The Movie",
         "orientation": "v",
         "showlegend": true,
         "type": "scatter",
         "x": [
          -4.906407833099365
         ],
         "xaxis": "x",
         "y": [
          -4.13199520111084
         ],
         "yaxis": "y"
        },
        {
         "hovertemplate": "Album=One Chance (Original Motion Picture Soundtrack)<br>x=%{x}<br>y=%{y}<extra></extra>",
         "legendgroup": "One Chance (Original Motion Picture Soundtrack)",
         "marker": {
          "color": "#ab63fa",
          "symbol": "circle"
         },
         "mode": "markers",
         "name": "One Chance (Original Motion Picture Soundtrack)",
         "orientation": "v",
         "showlegend": true,
         "type": "scatter",
         "x": [
          -6.44126558303833
         ],
         "xaxis": "x",
         "y": [
          -16.419511795043945
         ],
         "yaxis": "y"
        },
        {
         "hovertemplate": "Album=The Taylor Swift Holiday Collection - EP<br>x=%{x}<br>y=%{y}<extra></extra>",
         "legendgroup": "The Taylor Swift Holiday Collection - EP",
         "marker": {
          "color": "#FFA15A",
          "symbol": "circle"
         },
         "mode": "markers",
         "name": "The Taylor Swift Holiday Collection - EP",
         "orientation": "v",
         "showlegend": true,
         "type": "scatter",
         "x": [
          9.140881538391113,
          6.562378883361816,
          21.286415100097656,
          10.953348159790039,
          10.026336669921875
         ],
         "xaxis": "x",
         "y": [
          -3.2587978839874268,
          -11.082266807556152,
          -3.2979469299316406,
          -5.6842570304870605,
          -5.9879937171936035
         ],
         "yaxis": "y"
        },
        {
         "hovertemplate": "Album=Unreleased Songs<br>x=%{x}<br>y=%{y}<extra></extra>",
         "legendgroup": "Unreleased Songs",
         "marker": {
          "color": "#19d3f3",
          "symbol": "circle"
         },
         "mode": "markers",
         "name": "Unreleased Songs",
         "orientation": "v",
         "showlegend": true,
         "type": "scatter",
         "x": [
          -7.107296466827393,
          -18.4787654876709,
          -2.955432891845703,
          -14.90935230255127,
          15.764382362365723,
          4.653018951416016
         ],
         "xaxis": "x",
         "y": [
          -0.004497215151786804,
          2.82334041595459,
          15.908774375915527,
          1.2684497833251953,
          -6.2792277336120605,
          17.70598602294922
         ],
         "yaxis": "y"
        },
        {
         "hovertemplate": "Album=2004 Demo CD<br>x=%{x}<br>y=%{y}<extra></extra>",
         "legendgroup": "2004 Demo CD",
         "marker": {
          "color": "#FF6692",
          "symbol": "circle"
         },
         "mode": "markers",
         "name": "2004 Demo CD",
         "orientation": "v",
         "showlegend": true,
         "type": "scatter",
         "x": [
          -13.637115478515625
         ],
         "xaxis": "x",
         "y": [
          12.335411071777344
         ],
         "yaxis": "y"
        },
        {
         "hovertemplate": "Album=Taylor Swift <br>x=%{x}<br>y=%{y}<extra></extra>",
         "legendgroup": "Taylor Swift ",
         "marker": {
          "color": "#B6E880",
          "symbol": "circle"
         },
         "mode": "markers",
         "name": "Taylor Swift ",
         "orientation": "v",
         "showlegend": true,
         "type": "scatter",
         "x": [
          18.58876609802246,
          12.44648551940918,
          -6.652577877044678,
          -11.753049850463867,
          23.114490509033203,
          -13.738009452819824,
          2.3054940700531006,
          18.9571533203125,
          1.4937134981155396,
          -0.4594074487686157,
          -9.815186500549316,
          12.182106018066406,
          12.225593566894531,
          23.1144962310791,
          -4.8277974128723145,
          3.72341251373291
         ],
         "xaxis": "x",
         "y": [
          -10.941927909851074,
          5.60425329208374,
          20.424304962158203,
          -23.20061683654785,
          7.097559452056885,
          -11.256024360656738,
          -21.483749389648438,
          3.32303524017334,
          -19.074743270874023,
          -5.425079822540283,
          -7.537571430206299,
          -0.6630987524986267,
          5.505019664764404,
          7.0974884033203125,
          -23.294246673583984,
          -13.829249382019043
         ],
         "yaxis": "y"
        },
        {
         "hovertemplate": "Album=Taylor Swift (Best Buy Exclusive) <br>x=%{x}<br>y=%{y}<extra></extra>",
         "legendgroup": "Taylor Swift (Best Buy Exclusive) ",
         "marker": {
          "color": "#FF97FF",
          "symbol": "circle"
         },
         "mode": "markers",
         "name": "Taylor Swift (Best Buy Exclusive) ",
         "orientation": "v",
         "showlegend": true,
         "type": "scatter",
         "x": [
          -1.1497372388839722
         ],
         "xaxis": "x",
         "y": [
          0.6858174800872803
         ],
         "yaxis": "y"
        },
        {
         "hovertemplate": "Album=Valentine’s Day (Original Motion Picture Soundtrack)<br>x=%{x}<br>y=%{y}<extra></extra>",
         "legendgroup": "Valentine’s Day (Original Motion Picture Soundtrack)",
         "marker": {
          "color": "#FECB52",
          "symbol": "circle"
         },
         "mode": "markers",
         "name": "Valentine’s Day (Original Motion Picture Soundtrack)",
         "orientation": "v",
         "showlegend": true,
         "type": "scatter",
         "x": [
          -3.297924041748047
         ],
         "xaxis": "x",
         "y": [
          7.303870677947998
         ],
         "yaxis": "y"
        },
        {
         "hovertemplate": "Album=Speak Now: World Tour Live (Brazilian Edition)<br>x=%{x}<br>y=%{y}<extra></extra>",
         "legendgroup": "Speak Now: World Tour Live (Brazilian Edition)",
         "marker": {
          "color": "#636efa",
          "symbol": "circle"
         },
         "mode": "markers",
         "name": "Speak Now: World Tour Live (Brazilian Edition)",
         "orientation": "v",
         "showlegend": true,
         "type": "scatter",
         "x": [
          -3.924762487411499,
          11.171844482421875,
          13.131464004516602
         ],
         "xaxis": "x",
         "y": [
          -9.238471031188965,
          14.551783561706543,
          3.1728384494781494
         ],
         "yaxis": "y"
        },
        {
         "hovertemplate": "Album=NOW That’s What I Call A Workout 2019<br>x=%{x}<br>y=%{y}<extra></extra>",
         "legendgroup": "NOW That’s What I Call A Workout 2019",
         "marker": {
          "color": "#EF553B",
          "symbol": "circle"
         },
         "mode": "markers",
         "name": "NOW That’s What I Call A Workout 2019",
         "orientation": "v",
         "showlegend": true,
         "type": "scatter",
         "x": [
          6.703774929046631
         ],
         "xaxis": "x",
         "y": [
          7.318551540374756
         ],
         "yaxis": "y"
        },
        {
         "hovertemplate": "Album=2003 Demo CD<br>x=%{x}<br>y=%{y}<extra></extra>",
         "legendgroup": "2003 Demo CD",
         "marker": {
          "color": "#00cc96",
          "symbol": "circle"
         },
         "mode": "markers",
         "name": "2003 Demo CD",
         "orientation": "v",
         "showlegend": true,
         "type": "scatter",
         "x": [
          11.1846923828125
         ],
         "xaxis": "x",
         "y": [
          -2.026843547821045
         ],
         "yaxis": "y"
        },
        {
         "hovertemplate": "Album=Love Story [UK CD Single] <br>x=%{x}<br>y=%{y}<extra></extra>",
         "legendgroup": "Love Story [UK CD Single] ",
         "marker": {
          "color": "#ab63fa",
          "symbol": "circle"
         },
         "mode": "markers",
         "name": "Love Story [UK CD Single] ",
         "orientation": "v",
         "showlegend": true,
         "type": "scatter",
         "x": [
          1.6879894733428955
         ],
         "xaxis": "x",
         "y": [
          -4.471560478210449
         ],
         "yaxis": "y"
        },
        {
         "hovertemplate": "Album=Live from SoHo - EP<br>x=%{x}<br>y=%{y}<extra></extra>",
         "legendgroup": "Live from SoHo - EP",
         "marker": {
          "color": "#FFA15A",
          "symbol": "circle"
         },
         "mode": "markers",
         "name": "Live from SoHo - EP",
         "orientation": "v",
         "showlegend": true,
         "type": "scatter",
         "x": [
          -14.52171516418457,
          -8.132729530334473,
          -26.618566513061523,
          6.254317283630371,
          2.807244062423706,
          4.795799732208252,
          -4.912965297698975,
          -0.1439892202615738
         ],
         "xaxis": "x",
         "y": [
          3.889509439468384,
          -16.615211486816406,
          -4.062370777130127,
          1.8563891649246216,
          12.009818077087402,
          15.446681022644043,
          -13.349164962768555,
          14.316230773925781
         ],
         "yaxis": "y"
        },
        {
         "hovertemplate": "Album=Hope for Haiti Now<br>x=%{x}<br>y=%{y}<extra></extra>",
         "legendgroup": "Hope for Haiti Now",
         "marker": {
          "color": "#19d3f3",
          "symbol": "circle"
         },
         "mode": "markers",
         "name": "Hope for Haiti Now",
         "orientation": "v",
         "showlegend": true,
         "type": "scatter",
         "x": [
          -10.765229225158691
         ],
         "xaxis": "x",
         "y": [
          -3.8495657444000244
         ],
         "yaxis": "y"
        },
        {
         "hovertemplate": "Album=Beautiful Eyes - EP<br>x=%{x}<br>y=%{y}<extra></extra>",
         "legendgroup": "Beautiful Eyes - EP",
         "marker": {
          "color": "#FF6692",
          "symbol": "circle"
         },
         "mode": "markers",
         "name": "Beautiful Eyes - EP",
         "orientation": "v",
         "showlegend": true,
         "type": "scatter",
         "x": [
          -5.527637004852295
         ],
         "xaxis": "x",
         "y": [
          -12.806792259216309
         ],
         "yaxis": "y"
        },
        {
         "hovertemplate": "Album=folklore: the long pond studio sessions (from the Disney+ special) [deluxe edition]<br>x=%{x}<br>y=%{y}<extra></extra>",
         "legendgroup": "folklore: the long pond studio sessions (from the Disney+ special) [deluxe edition]",
         "marker": {
          "color": "#B6E880",
          "symbol": "circle"
         },
         "mode": "markers",
         "name": "folklore: the long pond studio sessions (from the Disney+ special) [deluxe edition]",
         "orientation": "v",
         "showlegend": true,
         "type": "scatter",
         "x": [
          4.6930928230285645,
          -8.47808837890625,
          8.309453964233398,
          0.3955342173576355,
          26.37315559387207,
          17.517969131469727,
          -4.106118679046631,
          3.059516429901123,
          -17.4105281829834,
          3.448171377182007,
          15.627655982971191,
          -0.513490617275238,
          -18.17378044128418,
          15.075809478759766,
          8.992602348327637,
          6.513515949249268,
          -2.1093432903289795
         ],
         "xaxis": "x",
         "y": [
          -3.6104979515075684,
          11.98603343963623,
          -8.70947551727295,
          6.91580057144165,
          0.34960827231407166,
          3.1854398250579834,
          -2.093950033187866,
          6.004501819610596,
          15.75220775604248,
          8.920452117919922,
          11.474104881286621,
          -13.026058197021484,
          -15.782232284545898,
          16.55286979675293,
          18.02393913269043,
          -24.898828506469727,
          9.724432945251465
         ],
         "yaxis": "y"
        },
        {
         "hovertemplate": "Album=Taylor Swift (Deluxe)<br>x=%{x}<br>y=%{y}<extra></extra>",
         "legendgroup": "Taylor Swift (Deluxe)",
         "marker": {
          "color": "#FF97FF",
          "symbol": "circle"
         },
         "mode": "markers",
         "name": "Taylor Swift (Deluxe)",
         "orientation": "v",
         "showlegend": true,
         "type": "scatter",
         "x": [
          4.336820602416992
         ],
         "xaxis": "x",
         "y": [
          16.651500701904297
         ],
         "yaxis": "y"
        },
        {
         "hovertemplate": "Album=willow (the witch collection)<br>x=%{x}<br>y=%{y}<extra></extra>",
         "legendgroup": "willow (the witch collection)",
         "marker": {
          "color": "#FECB52",
          "symbol": "circle"
         },
         "mode": "markers",
         "name": "willow (the witch collection)",
         "orientation": "v",
         "showlegend": true,
         "type": "scatter",
         "x": [
          -21.534242630004883
         ],
         "xaxis": "x",
         "y": [
          8.276961326599121
         ],
         "yaxis": "y"
        },
        {
         "hovertemplate": "Album=folklore: the yeah I showed up at your party chapter<br>x=%{x}<br>y=%{y}<extra></extra>",
         "legendgroup": "folklore: the yeah I showed up at your party chapter",
         "marker": {
          "color": "#636efa",
          "symbol": "circle"
         },
         "mode": "markers",
         "name": "folklore: the yeah I showed up at your party chapter",
         "orientation": "v",
         "showlegend": true,
         "type": "scatter",
         "x": [
          -4.694216728210449
         ],
         "xaxis": "x",
         "y": [
          -2.1154797077178955
         ],
         "yaxis": "y"
        },
        {
         "hovertemplate": "Album=Live from Paris<br>x=%{x}<br>y=%{y}<extra></extra>",
         "legendgroup": "Live from Paris",
         "marker": {
          "color": "#EF553B",
          "symbol": "circle"
         },
         "mode": "markers",
         "name": "Live from Paris",
         "orientation": "v",
         "showlegend": true,
         "type": "scatter",
         "x": [
          9.97950553894043,
          3.8960490226745605,
          9.97574234008789,
          -21.869447708129883,
          -10.14681625366211,
          -15.460965156555176,
          -20.788516998291016,
          -11.064180374145508
         ],
         "xaxis": "x",
         "y": [
          23.929309844970703,
          23.028011322021484,
          9.08774185180664,
          -10.227083206176758,
          -15.189290046691895,
          -7.5838093757629395,
          -0.08419224619865417,
          17.36587905883789
         ],
         "yaxis": "y"
        },
        {
         "hovertemplate": "Album=One World: Together At Home<br>x=%{x}<br>y=%{y}<extra></extra>",
         "legendgroup": "One World: Together At Home",
         "marker": {
          "color": "#00cc96",
          "symbol": "circle"
         },
         "mode": "markers",
         "name": "One World: Together At Home",
         "orientation": "v",
         "showlegend": true,
         "type": "scatter",
         "x": [
          20.494600296020508
         ],
         "xaxis": "x",
         "y": [
          13.813982009887695
         ],
         "yaxis": "y"
        },
        {
         "hovertemplate": "Album=Teardrops on My Guitar - EP<br>x=%{x}<br>y=%{y}<extra></extra>",
         "legendgroup": "Teardrops on My Guitar - EP",
         "marker": {
          "color": "#ab63fa",
          "symbol": "circle"
         },
         "mode": "markers",
         "name": "Teardrops on My Guitar - EP",
         "orientation": "v",
         "showlegend": true,
         "type": "scatter",
         "x": [
          -0.9825820922851562,
          -0.4881027638912201
         ],
         "xaxis": "x",
         "y": [
          14.876899719238281,
          13.199664115905762
         ],
         "yaxis": "y"
        },
        {
         "hovertemplate": "Album=Live From Clear Channel Stripped 2008 <br>x=%{x}<br>y=%{y}<extra></extra>",
         "legendgroup": "Live From Clear Channel Stripped 2008 ",
         "marker": {
          "color": "#FFA15A",
          "symbol": "circle"
         },
         "mode": "markers",
         "name": "Live From Clear Channel Stripped 2008 ",
         "orientation": "v",
         "showlegend": true,
         "type": "scatter",
         "x": [
          2.2079389095306396,
          9.488635063171387,
          -13.637085914611816,
          -15.640384674072266,
          20.167736053466797,
          -27.10624885559082,
          -4.91106653213501,
          -1.8166831731796265
         ],
         "xaxis": "x",
         "y": [
          -4.689003944396973,
          -13.839160919189453,
          12.335847854614258,
          8.249635696411133,
          -2.488893747329712,
          -4.501531600952148,
          -12.262249946594238,
          14.3342924118042
         ],
         "yaxis": "y"
        },
        {
         "hovertemplate": "Album=Woman Walk The Line <br>x=%{x}<br>y=%{y}<extra></extra>",
         "legendgroup": "Woman Walk The Line ",
         "marker": {
          "color": "#19d3f3",
          "symbol": "circle"
         },
         "mode": "markers",
         "name": "Woman Walk The Line ",
         "orientation": "v",
         "showlegend": true,
         "type": "scatter",
         "x": [
          12.562201499938965
         ],
         "xaxis": "x",
         "y": [
          12.601043701171875
         ],
         "yaxis": "y"
        }
       ],
       "layout": {
        "legend": {
         "title": {
          "text": "Album"
         },
         "tracegroupgap": 0
        },
        "template": {
         "data": {
          "bar": [
           {
            "error_x": {
             "color": "#2a3f5f"
            },
            "error_y": {
             "color": "#2a3f5f"
            },
            "marker": {
             "line": {
              "color": "#E5ECF6",
              "width": 0.5
             },
             "pattern": {
              "fillmode": "overlay",
              "size": 10,
              "solidity": 0.2
             }
            },
            "type": "bar"
           }
          ],
          "barpolar": [
           {
            "marker": {
             "line": {
              "color": "#E5ECF6",
              "width": 0.5
             },
             "pattern": {
              "fillmode": "overlay",
              "size": 10,
              "solidity": 0.2
             }
            },
            "type": "barpolar"
           }
          ],
          "carpet": [
           {
            "aaxis": {
             "endlinecolor": "#2a3f5f",
             "gridcolor": "white",
             "linecolor": "white",
             "minorgridcolor": "white",
             "startlinecolor": "#2a3f5f"
            },
            "baxis": {
             "endlinecolor": "#2a3f5f",
             "gridcolor": "white",
             "linecolor": "white",
             "minorgridcolor": "white",
             "startlinecolor": "#2a3f5f"
            },
            "type": "carpet"
           }
          ],
          "choropleth": [
           {
            "colorbar": {
             "outlinewidth": 0,
             "ticks": ""
            },
            "type": "choropleth"
           }
          ],
          "contour": [
           {
            "colorbar": {
             "outlinewidth": 0,
             "ticks": ""
            },
            "colorscale": [
             [
              0,
              "#0d0887"
             ],
             [
              0.1111111111111111,
              "#46039f"
             ],
             [
              0.2222222222222222,
              "#7201a8"
             ],
             [
              0.3333333333333333,
              "#9c179e"
             ],
             [
              0.4444444444444444,
              "#bd3786"
             ],
             [
              0.5555555555555556,
              "#d8576b"
             ],
             [
              0.6666666666666666,
              "#ed7953"
             ],
             [
              0.7777777777777778,
              "#fb9f3a"
             ],
             [
              0.8888888888888888,
              "#fdca26"
             ],
             [
              1,
              "#f0f921"
             ]
            ],
            "type": "contour"
           }
          ],
          "contourcarpet": [
           {
            "colorbar": {
             "outlinewidth": 0,
             "ticks": ""
            },
            "type": "contourcarpet"
           }
          ],
          "heatmap": [
           {
            "colorbar": {
             "outlinewidth": 0,
             "ticks": ""
            },
            "colorscale": [
             [
              0,
              "#0d0887"
             ],
             [
              0.1111111111111111,
              "#46039f"
             ],
             [
              0.2222222222222222,
              "#7201a8"
             ],
             [
              0.3333333333333333,
              "#9c179e"
             ],
             [
              0.4444444444444444,
              "#bd3786"
             ],
             [
              0.5555555555555556,
              "#d8576b"
             ],
             [
              0.6666666666666666,
              "#ed7953"
             ],
             [
              0.7777777777777778,
              "#fb9f3a"
             ],
             [
              0.8888888888888888,
              "#fdca26"
             ],
             [
              1,
              "#f0f921"
             ]
            ],
            "type": "heatmap"
           }
          ],
          "heatmapgl": [
           {
            "colorbar": {
             "outlinewidth": 0,
             "ticks": ""
            },
            "colorscale": [
             [
              0,
              "#0d0887"
             ],
             [
              0.1111111111111111,
              "#46039f"
             ],
             [
              0.2222222222222222,
              "#7201a8"
             ],
             [
              0.3333333333333333,
              "#9c179e"
             ],
             [
              0.4444444444444444,
              "#bd3786"
             ],
             [
              0.5555555555555556,
              "#d8576b"
             ],
             [
              0.6666666666666666,
              "#ed7953"
             ],
             [
              0.7777777777777778,
              "#fb9f3a"
             ],
             [
              0.8888888888888888,
              "#fdca26"
             ],
             [
              1,
              "#f0f921"
             ]
            ],
            "type": "heatmapgl"
           }
          ],
          "histogram": [
           {
            "marker": {
             "pattern": {
              "fillmode": "overlay",
              "size": 10,
              "solidity": 0.2
             }
            },
            "type": "histogram"
           }
          ],
          "histogram2d": [
           {
            "colorbar": {
             "outlinewidth": 0,
             "ticks": ""
            },
            "colorscale": [
             [
              0,
              "#0d0887"
             ],
             [
              0.1111111111111111,
              "#46039f"
             ],
             [
              0.2222222222222222,
              "#7201a8"
             ],
             [
              0.3333333333333333,
              "#9c179e"
             ],
             [
              0.4444444444444444,
              "#bd3786"
             ],
             [
              0.5555555555555556,
              "#d8576b"
             ],
             [
              0.6666666666666666,
              "#ed7953"
             ],
             [
              0.7777777777777778,
              "#fb9f3a"
             ],
             [
              0.8888888888888888,
              "#fdca26"
             ],
             [
              1,
              "#f0f921"
             ]
            ],
            "type": "histogram2d"
           }
          ],
          "histogram2dcontour": [
           {
            "colorbar": {
             "outlinewidth": 0,
             "ticks": ""
            },
            "colorscale": [
             [
              0,
              "#0d0887"
             ],
             [
              0.1111111111111111,
              "#46039f"
             ],
             [
              0.2222222222222222,
              "#7201a8"
             ],
             [
              0.3333333333333333,
              "#9c179e"
             ],
             [
              0.4444444444444444,
              "#bd3786"
             ],
             [
              0.5555555555555556,
              "#d8576b"
             ],
             [
              0.6666666666666666,
              "#ed7953"
             ],
             [
              0.7777777777777778,
              "#fb9f3a"
             ],
             [
              0.8888888888888888,
              "#fdca26"
             ],
             [
              1,
              "#f0f921"
             ]
            ],
            "type": "histogram2dcontour"
           }
          ],
          "mesh3d": [
           {
            "colorbar": {
             "outlinewidth": 0,
             "ticks": ""
            },
            "type": "mesh3d"
           }
          ],
          "parcoords": [
           {
            "line": {
             "colorbar": {
              "outlinewidth": 0,
              "ticks": ""
             }
            },
            "type": "parcoords"
           }
          ],
          "pie": [
           {
            "automargin": true,
            "type": "pie"
           }
          ],
          "scatter": [
           {
            "fillpattern": {
             "fillmode": "overlay",
             "size": 10,
             "solidity": 0.2
            },
            "type": "scatter"
           }
          ],
          "scatter3d": [
           {
            "line": {
             "colorbar": {
              "outlinewidth": 0,
              "ticks": ""
             }
            },
            "marker": {
             "colorbar": {
              "outlinewidth": 0,
              "ticks": ""
             }
            },
            "type": "scatter3d"
           }
          ],
          "scattercarpet": [
           {
            "marker": {
             "colorbar": {
              "outlinewidth": 0,
              "ticks": ""
             }
            },
            "type": "scattercarpet"
           }
          ],
          "scattergeo": [
           {
            "marker": {
             "colorbar": {
              "outlinewidth": 0,
              "ticks": ""
             }
            },
            "type": "scattergeo"
           }
          ],
          "scattergl": [
           {
            "marker": {
             "colorbar": {
              "outlinewidth": 0,
              "ticks": ""
             }
            },
            "type": "scattergl"
           }
          ],
          "scattermapbox": [
           {
            "marker": {
             "colorbar": {
              "outlinewidth": 0,
              "ticks": ""
             }
            },
            "type": "scattermapbox"
           }
          ],
          "scatterpolar": [
           {
            "marker": {
             "colorbar": {
              "outlinewidth": 0,
              "ticks": ""
             }
            },
            "type": "scatterpolar"
           }
          ],
          "scatterpolargl": [
           {
            "marker": {
             "colorbar": {
              "outlinewidth": 0,
              "ticks": ""
             }
            },
            "type": "scatterpolargl"
           }
          ],
          "scatterternary": [
           {
            "marker": {
             "colorbar": {
              "outlinewidth": 0,
              "ticks": ""
             }
            },
            "type": "scatterternary"
           }
          ],
          "surface": [
           {
            "colorbar": {
             "outlinewidth": 0,
             "ticks": ""
            },
            "colorscale": [
             [
              0,
              "#0d0887"
             ],
             [
              0.1111111111111111,
              "#46039f"
             ],
             [
              0.2222222222222222,
              "#7201a8"
             ],
             [
              0.3333333333333333,
              "#9c179e"
             ],
             [
              0.4444444444444444,
              "#bd3786"
             ],
             [
              0.5555555555555556,
              "#d8576b"
             ],
             [
              0.6666666666666666,
              "#ed7953"
             ],
             [
              0.7777777777777778,
              "#fb9f3a"
             ],
             [
              0.8888888888888888,
              "#fdca26"
             ],
             [
              1,
              "#f0f921"
             ]
            ],
            "type": "surface"
           }
          ],
          "table": [
           {
            "cells": {
             "fill": {
              "color": "#EBF0F8"
             },
             "line": {
              "color": "white"
             }
            },
            "header": {
             "fill": {
              "color": "#C8D4E3"
             },
             "line": {
              "color": "white"
             }
            },
            "type": "table"
           }
          ]
         },
         "layout": {
          "annotationdefaults": {
           "arrowcolor": "#2a3f5f",
           "arrowhead": 0,
           "arrowwidth": 1
          },
          "autotypenumbers": "strict",
          "coloraxis": {
           "colorbar": {
            "outlinewidth": 0,
            "ticks": ""
           }
          },
          "colorscale": {
           "diverging": [
            [
             0,
             "#8e0152"
            ],
            [
             0.1,
             "#c51b7d"
            ],
            [
             0.2,
             "#de77ae"
            ],
            [
             0.3,
             "#f1b6da"
            ],
            [
             0.4,
             "#fde0ef"
            ],
            [
             0.5,
             "#f7f7f7"
            ],
            [
             0.6,
             "#e6f5d0"
            ],
            [
             0.7,
             "#b8e186"
            ],
            [
             0.8,
             "#7fbc41"
            ],
            [
             0.9,
             "#4d9221"
            ],
            [
             1,
             "#276419"
            ]
           ],
           "sequential": [
            [
             0,
             "#0d0887"
            ],
            [
             0.1111111111111111,
             "#46039f"
            ],
            [
             0.2222222222222222,
             "#7201a8"
            ],
            [
             0.3333333333333333,
             "#9c179e"
            ],
            [
             0.4444444444444444,
             "#bd3786"
            ],
            [
             0.5555555555555556,
             "#d8576b"
            ],
            [
             0.6666666666666666,
             "#ed7953"
            ],
            [
             0.7777777777777778,
             "#fb9f3a"
            ],
            [
             0.8888888888888888,
             "#fdca26"
            ],
            [
             1,
             "#f0f921"
            ]
           ],
           "sequentialminus": [
            [
             0,
             "#0d0887"
            ],
            [
             0.1111111111111111,
             "#46039f"
            ],
            [
             0.2222222222222222,
             "#7201a8"
            ],
            [
             0.3333333333333333,
             "#9c179e"
            ],
            [
             0.4444444444444444,
             "#bd3786"
            ],
            [
             0.5555555555555556,
             "#d8576b"
            ],
            [
             0.6666666666666666,
             "#ed7953"
            ],
            [
             0.7777777777777778,
             "#fb9f3a"
            ],
            [
             0.8888888888888888,
             "#fdca26"
            ],
            [
             1,
             "#f0f921"
            ]
           ]
          },
          "colorway": [
           "#636efa",
           "#EF553B",
           "#00cc96",
           "#ab63fa",
           "#FFA15A",
           "#19d3f3",
           "#FF6692",
           "#B6E880",
           "#FF97FF",
           "#FECB52"
          ],
          "font": {
           "color": "#2a3f5f"
          },
          "geo": {
           "bgcolor": "white",
           "lakecolor": "white",
           "landcolor": "#E5ECF6",
           "showlakes": true,
           "showland": true,
           "subunitcolor": "white"
          },
          "hoverlabel": {
           "align": "left"
          },
          "hovermode": "closest",
          "mapbox": {
           "style": "light"
          },
          "paper_bgcolor": "white",
          "plot_bgcolor": "#E5ECF6",
          "polar": {
           "angularaxis": {
            "gridcolor": "white",
            "linecolor": "white",
            "ticks": ""
           },
           "bgcolor": "#E5ECF6",
           "radialaxis": {
            "gridcolor": "white",
            "linecolor": "white",
            "ticks": ""
           }
          },
          "scene": {
           "xaxis": {
            "backgroundcolor": "#E5ECF6",
            "gridcolor": "white",
            "gridwidth": 2,
            "linecolor": "white",
            "showbackground": true,
            "ticks": "",
            "zerolinecolor": "white"
           },
           "yaxis": {
            "backgroundcolor": "#E5ECF6",
            "gridcolor": "white",
            "gridwidth": 2,
            "linecolor": "white",
            "showbackground": true,
            "ticks": "",
            "zerolinecolor": "white"
           },
           "zaxis": {
            "backgroundcolor": "#E5ECF6",
            "gridcolor": "white",
            "gridwidth": 2,
            "linecolor": "white",
            "showbackground": true,
            "ticks": "",
            "zerolinecolor": "white"
           }
          },
          "shapedefaults": {
           "line": {
            "color": "#2a3f5f"
           }
          },
          "ternary": {
           "aaxis": {
            "gridcolor": "white",
            "linecolor": "white",
            "ticks": ""
           },
           "baxis": {
            "gridcolor": "white",
            "linecolor": "white",
            "ticks": ""
           },
           "bgcolor": "#E5ECF6",
           "caxis": {
            "gridcolor": "white",
            "linecolor": "white",
            "ticks": ""
           }
          },
          "title": {
           "x": 0.05
          },
          "xaxis": {
           "automargin": true,
           "gridcolor": "white",
           "linecolor": "white",
           "ticks": "",
           "title": {
            "standoff": 15
           },
           "zerolinecolor": "white",
           "zerolinewidth": 2
          },
          "yaxis": {
           "automargin": true,
           "gridcolor": "white",
           "linecolor": "white",
           "ticks": "",
           "title": {
            "standoff": 15
           },
           "zerolinecolor": "white",
           "zerolinewidth": 2
          }
         }
        },
        "title": {
         "text": "Year"
        },
        "xaxis": {
         "anchor": "y",
         "domain": [
          0,
          1
         ],
         "title": {
          "text": "x"
         }
        },
        "yaxis": {
         "anchor": "x",
         "domain": [
          0,
          1
         ],
         "title": {
          "text": "y"
         }
        }
       }
      }
     },
     "metadata": {},
     "output_type": "display_data"
    }
   ],
   "source": [
    "#df['pca'] = hero.pca(df['embedded'])\n",
    "#df['tfidf'] = hero.tfidf(df['Lyric'])\n",
    "#df['pca'] = hero.tsne(df['tfidf'])\n",
    "#hero.scatterplot(\n",
    "#    df, \n",
    "#    col='pca', \n",
    "#    color='Album', \n",
    "#    title=\"Year\"\n",
    "#)"
   ]
  },
  {
   "cell_type": "code",
   "execution_count": null,
   "metadata": {},
   "outputs": [],
   "source": [
    "def setimentanalyzer(df):\n",
    "    neg='Negative'\n",
    "    neu='Neutral'\n",
    "    pos='Positive'\n",
    "    negative = []\n",
    "    neutral = []\n",
    "    positive = []\n",
    "    dominant_sentiment=[]\n",
    "    dominant_sentiment_score=[]\n",
    "    #Initialize the model\n",
    "    sid = SentimentIntensityAnalyzer()\n",
    "    #Iterate for each row of lyrics and append the scores\n",
    "    for i in df.index:\n",
    "       \n",
    "        scores = sid.polarity_scores(df['Lyric'].iloc[i])\n",
    "        negative.append(scores['neg'])\n",
    "        neutral.append(scores['neu'])\n",
    "        positive.append(scores['pos'])\n",
    "        if scores['neg']>scores['pos']:\n",
    "            dominant_sentiment_score.append(scores['neg'])\n",
    "            dominant_sentiment.append(neg)\n",
    "        elif scores['neg']<scores['pos']:\n",
    "            dominant_sentiment_score.append(scores['pos'])\n",
    "            dominant_sentiment.append(pos)\n",
    "        else:\n",
    "            dominant_sentiment_score.append(scores['neu'])\n",
    "            dominant_sentiment.append(neu)\n",
    "    #Create 5 columns to the main data frame  for each score\n",
    "    df['negative'] = negative\n",
    "    df['neutral'] = neutral\n",
    "    df['positive'] = positive\n",
    "    df['dominant_sentiment']=dominant_sentiment\n",
    "    df['dominant_sentiment_score']=dominant_sentiment_score\n",
    "    return df\n",
    "\n",
    "df = setimentanalyzer(df)"
   ]
  },
  {
   "cell_type": "code",
   "execution_count": null,
   "metadata": {},
   "outputs": [],
   "source": [
    "hero.scatterplot(\n",
    "    df, \n",
    "    col='tsne', \n",
    "    color='negative', \n",
    "    title=\"\"\n",
    ")"
   ]
  }
 ],
 "metadata": {
  "interpreter": {
   "hash": "e84c11b96d40bca2711257aa1373ef735c853f35901985e15f90e12312631005"
  },
  "kernelspec": {
   "display_name": "Python 3.7.11 64-bit ('3.7.11')",
   "language": "python",
   "name": "python3"
  },
  "language_info": {
   "codemirror_mode": {
    "name": "ipython",
    "version": 3
   },
   "file_extension": ".py",
   "mimetype": "text/x-python",
   "name": "python",
   "nbconvert_exporter": "python",
   "pygments_lexer": "ipython3",
   "version": "3.7.11"
  },
  "orig_nbformat": 4
 },
 "nbformat": 4,
 "nbformat_minor": 2
}

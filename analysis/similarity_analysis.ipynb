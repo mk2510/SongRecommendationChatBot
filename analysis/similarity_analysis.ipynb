{
  "cells": [
    {
      "cell_type": "code",
      "execution_count": 15,
      "metadata": {
        "colab": {
          "base_uri": "https://localhost:8080/"
        },
        "id": "GZqVO-tI_aRu",
        "outputId": "4700d44a-9b12-4479-9f66-97f900c22482"
      },
      "outputs": [
        {
          "name": "stderr",
          "output_type": "stream",
          "text": [
            "[nltk_data] Downloading package punkt to /Users/max/nltk_data...\n",
            "[nltk_data]   Package punkt is already up-to-date!\n"
          ]
        },
        {
          "data": {
            "text/plain": [
              "True"
            ]
          },
          "execution_count": 15,
          "metadata": {},
          "output_type": "execute_result"
        }
      ],
      "source": [
        "import pandas as pd\n",
        "from gensim.models.doc2vec import Doc2Vec, TaggedDocument\n",
        "from nltk.tokenize import word_tokenize\n",
        "from scipy import spatial\n",
        "import nltk\n",
        "nltk.download('punkt')"
      ]
    },
    {
      "cell_type": "markdown",
      "metadata": {
        "id": "VZb5GgZ3CNY5"
      },
      "source": [
        "here we generate the dataframe, which keyword named as title and GT recommendation named as content.\n",
        "\n",
        "We are using here just the NYT articles, as buy using articles from just one publisher we hope to get a better more consistant matching and less confusion, which is important, when building the pipeline"
      ]
    },
    {
      "cell_type": "code",
      "execution_count": 5,
      "metadata": {
        "colab": {
          "base_uri": "https://localhost:8080/",
          "height": 423
        },
        "id": "ud_VKIQAAJuj",
        "outputId": "4c57ecd2-b6d0-4c6d-e8d7-31df4961d81c"
      },
      "outputs": [
        {
          "data": {
            "text/html": [
              "<div>\n",
              "<style scoped>\n",
              "    .dataframe tbody tr th:only-of-type {\n",
              "        vertical-align: middle;\n",
              "    }\n",
              "\n",
              "    .dataframe tbody tr th {\n",
              "        vertical-align: top;\n",
              "    }\n",
              "\n",
              "    .dataframe thead th {\n",
              "        text-align: right;\n",
              "    }\n",
              "</style>\n",
              "<table border=\"1\" class=\"dataframe\">\n",
              "  <thead>\n",
              "    <tr style=\"text-align: right;\">\n",
              "      <th></th>\n",
              "      <th>title</th>\n",
              "      <th>content</th>\n",
              "    </tr>\n",
              "  </thead>\n",
              "  <tbody>\n",
              "    <tr>\n",
              "      <th>0</th>\n",
              "      <td>House Republicans Fret About Winning Their Hea...</td>\n",
              "      <td>WASHINGTON  —   Congressional Republicans have...</td>\n",
              "    </tr>\n",
              "    <tr>\n",
              "      <th>1</th>\n",
              "      <td>Rift Between Officers and Residents as Killing...</td>\n",
              "      <td>After the bullet shells get counted, the blood...</td>\n",
              "    </tr>\n",
              "    <tr>\n",
              "      <th>2</th>\n",
              "      <td>Tyrus Wong, ‘Bambi’ Artist Thwarted by Racial ...</td>\n",
              "      <td>When Walt Disney’s “Bambi” opened in 1942, cri...</td>\n",
              "    </tr>\n",
              "    <tr>\n",
              "      <th>3</th>\n",
              "      <td>Among Deaths in 2016, a Heavy Toll in Pop Musi...</td>\n",
              "      <td>Death may be the great equalizer, but it isn’t...</td>\n",
              "    </tr>\n",
              "    <tr>\n",
              "      <th>4</th>\n",
              "      <td>Kim Jong-un Says North Korea Is Preparing to T...</td>\n",
              "      <td>SEOUL, South Korea  —   North Korea’s leader, ...</td>\n",
              "    </tr>\n",
              "    <tr>\n",
              "      <th>...</th>\n",
              "      <td>...</td>\n",
              "      <td>...</td>\n",
              "    </tr>\n",
              "    <tr>\n",
              "      <th>7798</th>\n",
              "      <td>U.N. Relief Official Calls Crisis in Aleppo th...</td>\n",
              "      <td>The top aid official at the United Nations gav...</td>\n",
              "    </tr>\n",
              "    <tr>\n",
              "      <th>7799</th>\n",
              "      <td>Federal Judge Curbs Enforcement of North Carol...</td>\n",
              "      <td>A federal judge on Friday curbed the enforceme...</td>\n",
              "    </tr>\n",
              "    <tr>\n",
              "      <th>7800</th>\n",
              "      <td>Mexicans Accuse President of ‘Historic Error’ ...</td>\n",
              "      <td>MEXICO CITY  —   If President Enrique Peña Nie...</td>\n",
              "    </tr>\n",
              "    <tr>\n",
              "      <th>7801</th>\n",
              "      <td>U.S. Presses for Truce in Syria, With Its Larg...</td>\n",
              "      <td>HANGZHOU, China  —   The image of a    Syrian ...</td>\n",
              "    </tr>\n",
              "    <tr>\n",
              "      <th>7802</th>\n",
              "      <td>Airbnb Adopts Rules to Fight Discrimination by...</td>\n",
              "      <td>SAN FRANCISCO  —   For much of this year, Airb...</td>\n",
              "    </tr>\n",
              "  </tbody>\n",
              "</table>\n",
              "<p>7803 rows × 2 columns</p>\n",
              "</div>"
            ],
            "text/plain": [
              "                                                  title  \\\n",
              "0     House Republicans Fret About Winning Their Hea...   \n",
              "1     Rift Between Officers and Residents as Killing...   \n",
              "2     Tyrus Wong, ‘Bambi’ Artist Thwarted by Racial ...   \n",
              "3     Among Deaths in 2016, a Heavy Toll in Pop Musi...   \n",
              "4     Kim Jong-un Says North Korea Is Preparing to T...   \n",
              "...                                                 ...   \n",
              "7798  U.N. Relief Official Calls Crisis in Aleppo th...   \n",
              "7799  Federal Judge Curbs Enforcement of North Carol...   \n",
              "7800  Mexicans Accuse President of ‘Historic Error’ ...   \n",
              "7801  U.S. Presses for Truce in Syria, With Its Larg...   \n",
              "7802  Airbnb Adopts Rules to Fight Discrimination by...   \n",
              "\n",
              "                                                content  \n",
              "0     WASHINGTON  —   Congressional Republicans have...  \n",
              "1     After the bullet shells get counted, the blood...  \n",
              "2     When Walt Disney’s “Bambi” opened in 1942, cri...  \n",
              "3     Death may be the great equalizer, but it isn’t...  \n",
              "4     SEOUL, South Korea  —   North Korea’s leader, ...  \n",
              "...                                                 ...  \n",
              "7798  The top aid official at the United Nations gav...  \n",
              "7799  A federal judge on Friday curbed the enforceme...  \n",
              "7800  MEXICO CITY  —   If President Enrique Peña Nie...  \n",
              "7801  HANGZHOU, China  —   The image of a    Syrian ...  \n",
              "7802  SAN FRANCISCO  —   For much of this year, Airb...  \n",
              "\n",
              "[7803 rows x 2 columns]"
            ]
          },
          "execution_count": 5,
          "metadata": {},
          "output_type": "execute_result"
        }
      ],
      "source": [
        "df = pd.read_csv('../comparison_dataset/articles1.csv')\n",
        "df = df[df['publication'] == 'New York Times']\n",
        "df = df.drop(columns = ['id', 'publication', 'author', 'date', 'year', 'month', 'url', 'Unnamed: 0'])\n",
        "df"
      ]
    },
    {
      "cell_type": "markdown",
      "metadata": {
        "id": "n9krNii0CWUC"
      },
      "source": [
        "now we try to find embedding methods, which in an ideal matching, or we could also just try to minimize distance between the embedded title and content"
      ]
    },
    {
      "cell_type": "code",
      "execution_count": 10,
      "metadata": {
        "id": "D02XfBTKCK7z"
      },
      "outputs": [],
      "source": [
        "def embedding_by_doc_2_vec(df):\n",
        "  data = df['content']\n",
        "  tagged_data = [TaggedDocument(words=word_tokenize(_d.lower()), tags=[str(i)]) for i, _d in enumerate(data)]\n",
        "  # df['tagged_data'] = tagged_data\n",
        "  max_epochs = 5\n",
        "  vec_size = 20\n",
        "  alpha = 0.025\n",
        "\n",
        "  model = Doc2Vec(size=vec_size,\n",
        "                  alpha=alpha, \n",
        "                  min_alpha=0.00025,\n",
        "                  min_count=1,\n",
        "                  dm =1)\n",
        "    \n",
        "  model.build_vocab(tagged_data)\n",
        "\n",
        "  for epoch in range(max_epochs):\n",
        "      print('iteration {0}'.format(epoch))\n",
        "      model.train(tagged_data,\n",
        "                  total_examples=model.corpus_count,\n",
        "                  epochs=model.iter)\n",
        "      # decrease the learning rate\n",
        "      model.alpha -= 0.0002\n",
        "      # fix the learning rate, no decay\n",
        "      model.min_alpha = model.alpha\n",
        "  print('here')\n",
        "  print(model.docvecs['1'])\n",
        "  return model"
      ]
    },
    {
      "cell_type": "code",
      "execution_count": 11,
      "metadata": {
        "colab": {
          "base_uri": "https://localhost:8080/",
          "height": 480
        },
        "id": "xCqXk2VHFBgG",
        "outputId": "0f80c9eb-d7ed-41c1-e948-04b4490c12e0"
      },
      "outputs": [
        {
          "name": "stdout",
          "output_type": "stream",
          "text": [
            "iteration 0\n"
          ]
        },
        {
          "name": "stderr",
          "output_type": "stream",
          "text": [
            "/opt/anaconda3/envs/36c3/lib/python3.7/site-packages/ipykernel_launcher.py:21: DeprecationWarning: Call to deprecated `iter` (Attribute will be removed in 4.0.0, use self.epochs instead).\n"
          ]
        },
        {
          "name": "stdout",
          "output_type": "stream",
          "text": [
            "iteration 1\n",
            "iteration 2\n",
            "iteration 3\n",
            "iteration 4\n",
            "here\n",
            "[-1.2421117   4.9880443  -5.4423003   5.246497    4.4367924   2.7066674\n",
            " -1.5880928   0.10194322  1.2945052  -0.476859    2.9589288   2.1537604\n",
            " -4.810111    0.6981496   2.4136384  -1.8792477   1.5653974   3.1918175\n",
            "  1.7164583   1.3136255 ]\n"
          ]
        }
      ],
      "source": [
        "model_d2v = embedding_by_doc_2_vec(df)"
      ]
    },
    {
      "cell_type": "code",
      "execution_count": 12,
      "metadata": {},
      "outputs": [],
      "source": [
        "model_d2v.save(\"doc2vec.model\")"
      ]
    },
    {
      "cell_type": "code",
      "execution_count": 14,
      "metadata": {},
      "outputs": [
        {
          "data": {
            "text/html": [
              "<div>\n",
              "<style scoped>\n",
              "    .dataframe tbody tr th:only-of-type {\n",
              "        vertical-align: middle;\n",
              "    }\n",
              "\n",
              "    .dataframe tbody tr th {\n",
              "        vertical-align: top;\n",
              "    }\n",
              "\n",
              "    .dataframe thead th {\n",
              "        text-align: right;\n",
              "    }\n",
              "</style>\n",
              "<table border=\"1\" class=\"dataframe\">\n",
              "  <thead>\n",
              "    <tr style=\"text-align: right;\">\n",
              "      <th></th>\n",
              "      <th>title</th>\n",
              "      <th>content</th>\n",
              "      <th>embed_title</th>\n",
              "      <th>embed_title_d2v</th>\n",
              "      <th>embed_content_d2v</th>\n",
              "    </tr>\n",
              "  </thead>\n",
              "  <tbody>\n",
              "    <tr>\n",
              "      <th>0</th>\n",
              "      <td>House Republicans Fret About Winning Their Hea...</td>\n",
              "      <td>WASHINGTON  —   Congressional Republicans have...</td>\n",
              "      <td>[-0.0093585085, -0.021507362, 0.0061488478, 0....</td>\n",
              "      <td>[-0.0093585085, -0.021507362, 0.0061488478, 0....</td>\n",
              "      <td>[-0.8141588, 1.7652576, -1.0776699, 3.24824, 1...</td>\n",
              "    </tr>\n",
              "    <tr>\n",
              "      <th>1</th>\n",
              "      <td>Rift Between Officers and Residents as Killing...</td>\n",
              "      <td>After the bullet shells get counted, the blood...</td>\n",
              "      <td>[-0.032501455, 0.14153877, -0.15343542, 0.2488...</td>\n",
              "      <td>[-0.0073677874, 0.048639294, -0.09777665, 0.11...</td>\n",
              "      <td>[-0.16269964, 4.9958744, -4.323945, 4.6282096,...</td>\n",
              "    </tr>\n",
              "    <tr>\n",
              "      <th>2</th>\n",
              "      <td>Tyrus Wong, ‘Bambi’ Artist Thwarted by Racial ...</td>\n",
              "      <td>When Walt Disney’s “Bambi” opened in 1942, cri...</td>\n",
              "      <td>[-0.045466833, 0.14027055, -0.27003285, 0.3213...</td>\n",
              "      <td>[-0.06263837, 0.004463125, -0.25444648, 0.2261...</td>\n",
              "      <td>[0.73779887, 2.3255024, -1.1746546, 2.1986437,...</td>\n",
              "    </tr>\n",
              "    <tr>\n",
              "      <th>3</th>\n",
              "      <td>Among Deaths in 2016, a Heavy Toll in Pop Musi...</td>\n",
              "      <td>Death may be the great equalizer, but it isn’t...</td>\n",
              "      <td>[-0.03360937, 0.093950205, 0.000188482, 0.1365...</td>\n",
              "      <td>[0.023187965, 0.09655971, -0.14669798, 0.19396...</td>\n",
              "      <td>[1.4059936, -0.7528463, -0.4544508, 1.3375974,...</td>\n",
              "    </tr>\n",
              "    <tr>\n",
              "      <th>4</th>\n",
              "      <td>Kim Jong-un Says North Korea Is Preparing to T...</td>\n",
              "      <td>SEOUL, South Korea  —   North Korea’s leader, ...</td>\n",
              "      <td>[-0.048443943, -0.0075524626, -0.01917088, 0.1...</td>\n",
              "      <td>[-0.041952282, -0.00042028353, -0.011524385, 0...</td>\n",
              "      <td>[1.358609, 0.8953577, -1.1506597, 0.68220687, ...</td>\n",
              "    </tr>\n",
              "    <tr>\n",
              "      <th>...</th>\n",
              "      <td>...</td>\n",
              "      <td>...</td>\n",
              "      <td>...</td>\n",
              "      <td>...</td>\n",
              "      <td>...</td>\n",
              "    </tr>\n",
              "    <tr>\n",
              "      <th>7798</th>\n",
              "      <td>U.N. Relief Official Calls Crisis in Aleppo th...</td>\n",
              "      <td>The top aid official at the United Nations gav...</td>\n",
              "      <td>[-0.0040729754, 0.06346059, -0.11238866, 0.093...</td>\n",
              "      <td>[-0.08016987, 0.07987044, -0.11769748, 0.16607...</td>\n",
              "      <td>[-0.60183525, 2.2357724, -1.6118, 1.7577279, 1...</td>\n",
              "    </tr>\n",
              "    <tr>\n",
              "      <th>7799</th>\n",
              "      <td>Federal Judge Curbs Enforcement of North Carol...</td>\n",
              "      <td>A federal judge on Friday curbed the enforceme...</td>\n",
              "      <td>[-0.015068225, -0.013702527, -0.022383027, -0....</td>\n",
              "      <td>[-0.0032212203, 0.007402448, -0.0582778, 0.024...</td>\n",
              "      <td>[-1.5910295, 1.7444589, -1.6425011, 3.146459, ...</td>\n",
              "    </tr>\n",
              "    <tr>\n",
              "      <th>7800</th>\n",
              "      <td>Mexicans Accuse President of ‘Historic Error’ ...</td>\n",
              "      <td>MEXICO CITY  —   If President Enrique Peña Nie...</td>\n",
              "      <td>[-0.0024897717, -0.002366119, -0.032554604, 0....</td>\n",
              "      <td>[-0.035053734, 0.12764448, -0.17784066, 0.1667...</td>\n",
              "      <td>[0.96068466, 1.5211244, -1.9774988, 2.3074777,...</td>\n",
              "    </tr>\n",
              "    <tr>\n",
              "      <th>7801</th>\n",
              "      <td>U.S. Presses for Truce in Syria, With Its Larg...</td>\n",
              "      <td>HANGZHOU, China  —   The image of a    Syrian ...</td>\n",
              "      <td>[-0.029645665, 0.19971707, -0.17143646, 0.2518...</td>\n",
              "      <td>[-0.034036286, 0.03349768, -0.14917196, 0.1764...</td>\n",
              "      <td>[-0.0807275, 2.1167324, -0.7399275, 2.7920866,...</td>\n",
              "    </tr>\n",
              "    <tr>\n",
              "      <th>7802</th>\n",
              "      <td>Airbnb Adopts Rules to Fight Discrimination by...</td>\n",
              "      <td>SAN FRANCISCO  —   For much of this year, Airb...</td>\n",
              "      <td>[-0.00516939, -0.005988638, -0.1354146, 0.1379...</td>\n",
              "      <td>[-0.03212305, 0.02310977, -0.11417368, 0.23229...</td>\n",
              "      <td>[-2.56042, 2.109228, -0.8812143, 2.9464483, 1....</td>\n",
              "    </tr>\n",
              "  </tbody>\n",
              "</table>\n",
              "<p>7803 rows × 5 columns</p>\n",
              "</div>"
            ],
            "text/plain": [
              "                                                  title  \\\n",
              "0     House Republicans Fret About Winning Their Hea...   \n",
              "1     Rift Between Officers and Residents as Killing...   \n",
              "2     Tyrus Wong, ‘Bambi’ Artist Thwarted by Racial ...   \n",
              "3     Among Deaths in 2016, a Heavy Toll in Pop Musi...   \n",
              "4     Kim Jong-un Says North Korea Is Preparing to T...   \n",
              "...                                                 ...   \n",
              "7798  U.N. Relief Official Calls Crisis in Aleppo th...   \n",
              "7799  Federal Judge Curbs Enforcement of North Carol...   \n",
              "7800  Mexicans Accuse President of ‘Historic Error’ ...   \n",
              "7801  U.S. Presses for Truce in Syria, With Its Larg...   \n",
              "7802  Airbnb Adopts Rules to Fight Discrimination by...   \n",
              "\n",
              "                                                content  \\\n",
              "0     WASHINGTON  —   Congressional Republicans have...   \n",
              "1     After the bullet shells get counted, the blood...   \n",
              "2     When Walt Disney’s “Bambi” opened in 1942, cri...   \n",
              "3     Death may be the great equalizer, but it isn’t...   \n",
              "4     SEOUL, South Korea  —   North Korea’s leader, ...   \n",
              "...                                                 ...   \n",
              "7798  The top aid official at the United Nations gav...   \n",
              "7799  A federal judge on Friday curbed the enforceme...   \n",
              "7800  MEXICO CITY  —   If President Enrique Peña Nie...   \n",
              "7801  HANGZHOU, China  —   The image of a    Syrian ...   \n",
              "7802  SAN FRANCISCO  —   For much of this year, Airb...   \n",
              "\n",
              "                                            embed_title  \\\n",
              "0     [-0.0093585085, -0.021507362, 0.0061488478, 0....   \n",
              "1     [-0.032501455, 0.14153877, -0.15343542, 0.2488...   \n",
              "2     [-0.045466833, 0.14027055, -0.27003285, 0.3213...   \n",
              "3     [-0.03360937, 0.093950205, 0.000188482, 0.1365...   \n",
              "4     [-0.048443943, -0.0075524626, -0.01917088, 0.1...   \n",
              "...                                                 ...   \n",
              "7798  [-0.0040729754, 0.06346059, -0.11238866, 0.093...   \n",
              "7799  [-0.015068225, -0.013702527, -0.022383027, -0....   \n",
              "7800  [-0.0024897717, -0.002366119, -0.032554604, 0....   \n",
              "7801  [-0.029645665, 0.19971707, -0.17143646, 0.2518...   \n",
              "7802  [-0.00516939, -0.005988638, -0.1354146, 0.1379...   \n",
              "\n",
              "                                        embed_title_d2v  \\\n",
              "0     [-0.0093585085, -0.021507362, 0.0061488478, 0....   \n",
              "1     [-0.0073677874, 0.048639294, -0.09777665, 0.11...   \n",
              "2     [-0.06263837, 0.004463125, -0.25444648, 0.2261...   \n",
              "3     [0.023187965, 0.09655971, -0.14669798, 0.19396...   \n",
              "4     [-0.041952282, -0.00042028353, -0.011524385, 0...   \n",
              "...                                                 ...   \n",
              "7798  [-0.08016987, 0.07987044, -0.11769748, 0.16607...   \n",
              "7799  [-0.0032212203, 0.007402448, -0.0582778, 0.024...   \n",
              "7800  [-0.035053734, 0.12764448, -0.17784066, 0.1667...   \n",
              "7801  [-0.034036286, 0.03349768, -0.14917196, 0.1764...   \n",
              "7802  [-0.03212305, 0.02310977, -0.11417368, 0.23229...   \n",
              "\n",
              "                                      embed_content_d2v  \n",
              "0     [-0.8141588, 1.7652576, -1.0776699, 3.24824, 1...  \n",
              "1     [-0.16269964, 4.9958744, -4.323945, 4.6282096,...  \n",
              "2     [0.73779887, 2.3255024, -1.1746546, 2.1986437,...  \n",
              "3     [1.4059936, -0.7528463, -0.4544508, 1.3375974,...  \n",
              "4     [1.358609, 0.8953577, -1.1506597, 0.68220687, ...  \n",
              "...                                                 ...  \n",
              "7798  [-0.60183525, 2.2357724, -1.6118, 1.7577279, 1...  \n",
              "7799  [-1.5910295, 1.7444589, -1.6425011, 3.146459, ...  \n",
              "7800  [0.96068466, 1.5211244, -1.9774988, 2.3074777,...  \n",
              "7801  [-0.0807275, 2.1167324, -0.7399275, 2.7920866,...  \n",
              "7802  [-2.56042, 2.109228, -0.8812143, 2.9464483, 1....  \n",
              "\n",
              "[7803 rows x 5 columns]"
            ]
          },
          "execution_count": 14,
          "metadata": {},
          "output_type": "execute_result"
        }
      ],
      "source": [
        "def embedd_d2v(model, doc):\n",
        "    return model.infer_vector(doc.split())\n",
        "\n",
        "df['embed_title_d2v'] = df['title'].apply(lambda x: embedd_d2v(model_d2v, x))\n",
        "df['embed_content_d2v'] = df['content'].apply(lambda x: embedd_d2v(model_d2v, x))\n",
        "df"
      ]
    },
    {
      "cell_type": "code",
      "execution_count": 17,
      "metadata": {},
      "outputs": [],
      "source": [
        "def cosine_similarity(df):\n",
        "    return 1 - spatial.distance.cosine(df[0], df[1])"
      ]
    },
    {
      "cell_type": "code",
      "execution_count": 18,
      "metadata": {},
      "outputs": [
        {
          "data": {
            "text/plain": [
              "0.37736899936229895"
            ]
          },
          "execution_count": 18,
          "metadata": {},
          "output_type": "execute_result"
        }
      ],
      "source": [
        "df['d2v_similarity'] = df[['embed_title_d2v', 'embed_content_d2v']].apply(cosine_similarity, axis = 1)\n",
        "df['d2v_similarity'].mean()"
      ]
    }
  ],
  "metadata": {
    "colab": {
      "name": "Untitled1.ipynb",
      "provenance": []
    },
    "kernelspec": {
      "display_name": "Python 3",
      "name": "python3"
    },
    "language_info": {
      "codemirror_mode": {
        "name": "ipython",
        "version": 3
      },
      "file_extension": ".py",
      "mimetype": "text/x-python",
      "name": "python",
      "nbconvert_exporter": "python",
      "pygments_lexer": "ipython3",
      "version": "3.7.6"
    }
  },
  "nbformat": 4,
  "nbformat_minor": 0
}
